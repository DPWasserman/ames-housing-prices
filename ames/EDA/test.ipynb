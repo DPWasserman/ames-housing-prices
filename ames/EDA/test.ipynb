{
 "cells": [
  {
   "cell_type": "code",
   "execution_count": 531,
   "metadata": {},
   "outputs": [],
   "source": [
    "import numpy as np\n",
    "import pandas as pd\n",
    "import statsmodels.api as sm\n",
    "from statsmodels.api import OLS\n",
    "from sklearn.linear_model import LinearRegression\n",
    "%matplotlib inline \n",
    "\n",
    "housing_initial = pd.read_csv('./data/Ames_Housing_Price_Data.csv', index_col=0)"
   ]
  },
  {
   "cell_type": "code",
   "execution_count": 532,
   "metadata": {},
   "outputs": [],
   "source": [
    "from sklearn.feature_selection import f_regression\n",
    "from sklearn.linear_model import LinearRegression"
   ]
  },
  {
   "cell_type": "code",
   "execution_count": 533,
   "metadata": {},
   "outputs": [],
   "source": [
    "def adjust_data_frame(data_frame):\n",
    "    rename = {'heatingqc':'heatingqual'}\n",
    "    for col in data_frame:\n",
    "        new_col = col.lower()\n",
    "        data_frame = data_frame.rename(columns={col:new_col})\n",
    "        \n",
    "    data_frame['has_pool'] = data_frame['poolarea'].apply(lambda x: 1 if x > 0 else 0)\n",
    "    data_frame['centralair'] = data_frame['centralair'].apply(lambda x: 1 if x == 'Y' else 0)\n",
    "    data_frame['toilets'] = data_frame['halfbath'] + data_frame['fullbath']\n",
    "    data_frame['showers'] = data_frame['fullbath']\n",
    "    \n",
    "    data_frame = data_frame.rename(columns=rename)\n",
    "    return data_frame"
   ]
  },
  {
   "cell_type": "code",
   "execution_count": 549,
   "metadata": {},
   "outputs": [],
   "source": [
    "housing = housing_initial.copy()\n",
    "housing = adjust_data_frame(housing)"
   ]
  },
  {
   "cell_type": "code",
   "execution_count": 550,
   "metadata": {},
   "outputs": [],
   "source": [
    "def get_mll_vals(temp_df):\n",
    "    lm = LinearRegression()\n",
    "    lm.fit(temp_df, sale_prices)\n",
    "\n",
    "    r2 = lm.score(temp_df, sale_prices)\n",
    "    residuals = sale_prices - lm.predict(temp_df)\n",
    "    rss = np.sum((residuals)**2)\n",
    "\n",
    "    coef = lm.coef_\n",
    "    intercept = lm.intercept_\n",
    "    prfx_vals = {'r^2':r2,\n",
    "                 #'coef':coef,\n",
    "                 #'intercept':intercept,\n",
    "                 'rss':rss\n",
    "                }\n",
    "    return prfx_vals"
   ]
  },
  {
   "cell_type": "code",
   "execution_count": 551,
   "metadata": {},
   "outputs": [],
   "source": [
    "# def do_multiple_lin(data_frame,col_type):\n",
    "#     prfx_options = ['overall','exter','bsmt','kitchen','garage','heating','bldgtype','centralair','roofmatl','roofstyle','has_pool','foundation']\n",
    "    \n",
    "#     col_df = data_frame.filter(regex='%s$|saleprice'%col_type)\n",
    "#     #quality_df.isnull().sum(axis=0)\n",
    "\n",
    "#     dummy_cols = list(col_df.columns).remove('saleprice')\n",
    "#     #dummy_cols.remove('saleprice')\n",
    "#     col_df = pd.get_dummies(col_df,columns=dummy_cols,drop_first=True)\n",
    "    \n",
    "#     sale_prices = quality_df['saleprice']\n",
    "#     values = {}\n",
    "    \n",
    "#     for prfx in prfx_options:\n",
    "#         temp_df = col_df.copy()\n",
    "#         del temp_df['saleprice']\n",
    "#         temp_df = temp_df.filter(regex=prfx)\n",
    "#         if temp_df.shape[1] > 0:\n",
    "#             values[prfx] = get_mll_vals(temp_df)\n",
    "#     return values"
   ]
  },
  {
   "cell_type": "code",
   "execution_count": 552,
   "metadata": {},
   "outputs": [],
   "source": [
    "def do_multiple_lin(data_frame,col_types):\n",
    "    prfx_options = ['overall','exter','bsmt','heating','masvnr','kitchen','lot','neighborhood','garage']\n",
    "    \n",
    "    values = {}\n",
    "    \n",
    "    for col_type in col_types:\n",
    "        col_df = data_frame.filter(regex='%s$|saleprice'%col_type)\n",
    "        if col_type in col_df:\n",
    "            prfx_options_use = [col_type]\n",
    "        else:\n",
    "            prfx_options_use = prfx_options\n",
    "\n",
    "        dummy_cols = list(col_df.columns).remove('saleprice')\n",
    "        col_df = pd.get_dummies(col_df,columns=dummy_cols,drop_first=True)\n",
    "\n",
    "        sale_prices = quality_df['saleprice']\n",
    "        for prfx in prfx_options_use:\n",
    "            temp_df = col_df.copy()\n",
    "            del temp_df['saleprice']\n",
    "            temp_df = temp_df.filter(regex=prfx)\n",
    "            if temp_df.shape[1] > 0:\n",
    "                #print(prfx)\n",
    "                if col_type == prfx:\n",
    "                    name = name = col_type\n",
    "                else:\n",
    "                    name = '%s%s' % (prfx,col_type)\n",
    "                #print(name)\n",
    "                output = get_mll_vals(temp_df)\n",
    "                values[name] = output['r^2']\n",
    "    return values"
   ]
  },
  {
   "cell_type": "code",
   "execution_count": 553,
   "metadata": {},
   "outputs": [],
   "source": [
    "mll_cols = ['qual','cond','heating','foundation','roofstyle','roofmatl','bldgtype',\n",
    "            'neighborhood','type','electrical','housestyle','functional','saletype','mssubclass',\n",
    "            'landcontour','yrsold','mosold','paveddrive','housestyle','garagefinish','mszoning','fence'\n",
    "           ]\n",
    "\n",
    "#mll_cols = ['qual']\n",
    "\n",
    "categorical_vals = do_multiple_lin(housing,mll_cols)\n",
    "categorical_vals = dict(sorted(categorical_vals.items(), key=lambda item: item[1],reverse=True))"
   ]
  },
  {
   "cell_type": "code",
   "execution_count": 554,
   "metadata": {},
   "outputs": [
    {
     "data": {
      "text/plain": [
       "{'overallqual': 0.6248925373371652,\n",
       " 'neighborhood': 0.5598077663859118,\n",
       " 'exterqual': 0.4853009289061254,\n",
       " 'kitchenqual': 0.45785794401358726,\n",
       " 'bsmtqual': 0.3162074986324529,\n",
       " 'foundation': 0.2671350890643003,\n",
       " 'garagetype': 0.23154901739229283,\n",
       " 'heatingqual': 0.20235536653584862,\n",
       " 'garagefinish': 0.17544927153842826,\n",
       " 'masvnrtype': 0.17171662226724904,\n",
       " 'mszoning': 0.11600712743510999,\n",
       " 'garagequal': 0.0832951603369062,\n",
       " 'saletype': 0.08130860205161039,\n",
       " 'garagecond': 0.07815590410722295,\n",
       " 'paveddrive': 0.07247451559741591,\n",
       " 'housestyle': 0.07103279739739266,\n",
       " 'roofstyle': 0.05870948148127286,\n",
       " 'electrical': 0.0564879727663965,\n",
       " 'bsmtcond': 0.04840595199785991,\n",
       " 'fence': 0.035707927276794726,\n",
       " 'bldgtype': 0.03303709816401801,\n",
       " 'landcontour': 0.03234993583246448,\n",
       " 'extercond': 0.021968757422164087,\n",
       " 'roofmatl': 0.020763632343995697,\n",
       " 'functional': 0.01366006518798657,\n",
       " 'overallcond': 0.010219487984851061,\n",
       " 'heating': 0.007934972875623836,\n",
       " 'mssubclass': 0.007155008656742345,\n",
       " 'mosold': 0.00015852081570277843,\n",
       " 'yrsold': 1.8925326152885447e-06}"
      ]
     },
     "execution_count": 554,
     "metadata": {},
     "output_type": "execute_result"
    }
   ],
   "source": [
    "categorical_vals"
   ]
  },
  {
   "cell_type": "code",
   "execution_count": 555,
   "metadata": {},
   "outputs": [],
   "source": [
    "lin_reg_cols = ['toilets','wooddecksf','totrmsabvgrd','bedroomabvgr','showers','kitchenabvgr',\n",
    "                'fireplaces','yearbuilt','yearremodadd','enclosedporch','screenporch',\n",
    "                'totalbsmtsf','3ssnporch'\n",
    "               ]\n",
    "for col in housing.columns:\n",
    "    if 'area' in col:\n",
    "        lin_reg_cols.append(col)"
   ]
  },
  {
   "cell_type": "code",
   "execution_count": 556,
   "metadata": {},
   "outputs": [],
   "source": [
    "features = sm.add_constant(housing[['saleprice']])\n",
    "lin_reg_vals = {}\n",
    "\n",
    "for col in lin_reg_cols:\n",
    "    housing[col] = housing[col].fillna(0.0)\n",
    "    ols_sm  = OLS(housing[col], features)\n",
    "    model = ols_sm.fit()\n",
    "    lin_reg_vals[col] = model.rsquared\n",
    "    \n",
    "lin_reg_vals = dict(sorted(lin_reg_vals.items(), key=lambda item: item[1],reverse=True))"
   ]
  },
  {
   "cell_type": "code",
   "execution_count": 557,
   "metadata": {},
   "outputs": [
    {
     "data": {
      "text/plain": [
       "{'grlivarea': 0.5183732056699005,\n",
       " 'totalbsmtsf': 0.42574893740677966,\n",
       " 'garagearea': 0.4028044155186665,\n",
       " 'yearbuilt': 0.2963386692622054,\n",
       " 'toilets': 0.29467390233984414,\n",
       " 'showers': 0.28620549197746104,\n",
       " 'yearremodadd': 0.2645135075446047,\n",
       " 'masvnrarea': 0.2484343306454504,\n",
       " 'totrmsabvgrd': 0.24031508853002126,\n",
       " 'fireplaces': 0.23832326199307108,\n",
       " 'wooddecksf': 0.11104333043218417,\n",
       " 'lotarea': 0.07531921127368835,\n",
       " 'bedroomabvgr': 0.02304512827536065,\n",
       " 'enclosedporch': 0.015186832015373963,\n",
       " 'screenporch': 0.01475335746883455,\n",
       " 'kitchenabvgr': 0.01299070277321912,\n",
       " '3ssnporch': 0.0009771955140202015,\n",
       " 'poolarea': 0.0009513780180609999}"
      ]
     },
     "execution_count": 557,
     "metadata": {},
     "output_type": "execute_result"
    }
   ],
   "source": [
    "lin_reg_vals"
   ]
  },
  {
   "cell_type": "code",
   "execution_count": 561,
   "metadata": {},
   "outputs": [],
   "source": [
    "lin_reg_df = pd.DataFrame({'Attribute':lin_reg_vals.keys(),'R-Squared':lin_reg_vals.values()})\n",
    "lin_reg_df['Reg Type'] = 'Categorical'\n",
    "categorical_df = pd.DataFrame({'Attribute':categorical_vals.keys(),'R-Squared':categorical_vals.values()})\n",
    "categorical_df['Reg Type'] = 'Multiple'\n",
    "\n",
    "combined = lin_reg_df.append(categorical_df)\n",
    "combined = combined.sort_values('R-Squared',ascending=False)\n",
    "combined.to_csv('rsquared.csv')"
   ]
  },
  {
   "cell_type": "code",
   "execution_count": null,
   "metadata": {},
   "outputs": [],
   "source": []
  },
  {
   "cell_type": "code",
   "execution_count": 562,
   "metadata": {},
   "outputs": [
    {
     "name": "stdout",
     "output_type": "stream",
     "text": [
      "pid\n",
      "saleprice\n",
      "lotfrontage\n",
      "street\n",
      "alley\n",
      "lotshape\n",
      "utilities\n",
      "lotconfig\n",
      "landslope\n",
      "condition1\n",
      "condition2\n",
      "exterior1st\n",
      "exterior2nd\n",
      "bsmtexposure\n",
      "bsmtfintype1\n",
      "bsmtfinsf1\n",
      "bsmtfintype2\n",
      "bsmtfinsf2\n",
      "bsmtunfsf\n",
      "centralair\n",
      "1stflrsf\n",
      "2ndflrsf\n",
      "lowqualfinsf\n",
      "bsmtfullbath\n",
      "bsmthalfbath\n",
      "fullbath\n",
      "halfbath\n",
      "fireplacequ\n",
      "garageyrblt\n",
      "garagecars\n",
      "openporchsf\n",
      "poolqc\n",
      "miscfeature\n",
      "miscval\n",
      "salecondition\n",
      "has_pool\n"
     ]
    }
   ],
   "source": [
    "for i in housing.columns:\n",
    "    if i not in combined['Attribute'].unique():\n",
    "        print(i)"
   ]
  },
  {
   "cell_type": "code",
   "execution_count": null,
   "metadata": {},
   "outputs": [],
   "source": []
  },
  {
   "cell_type": "code",
   "execution_count": null,
   "metadata": {},
   "outputs": [],
   "source": []
  }
 ],
 "metadata": {
  "kernelspec": {
   "display_name": "Python 3",
   "language": "python",
   "name": "python3"
  },
  "language_info": {
   "codemirror_mode": {
    "name": "ipython",
    "version": 3
   },
   "file_extension": ".py",
   "mimetype": "text/x-python",
   "name": "python",
   "nbconvert_exporter": "python",
   "pygments_lexer": "ipython3",
   "version": "3.8.5"
  }
 },
 "nbformat": 4,
 "nbformat_minor": 4
}
