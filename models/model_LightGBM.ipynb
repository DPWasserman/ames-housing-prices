{
 "cells": [
  {
   "cell_type": "markdown",
   "metadata": {},
   "source": [
    "https://lightgbm.readthedocs.io/en/latest/Python-Intro.html"
   ]
  },
  {
   "cell_type": "code",
   "execution_count": 1,
   "metadata": {},
   "outputs": [],
   "source": [
    "import pandas as pd\n",
    "import numpy as np"
   ]
  },
  {
   "cell_type": "code",
   "execution_count": 2,
   "metadata": {},
   "outputs": [],
   "source": [
    "import sys\n",
    "sys.path.append('../ames') # path the the directory\n",
    "import config\n",
    "from data_prep import clean, add_features, dummify"
   ]
  },
  {
   "cell_type": "code",
   "execution_count": 3,
   "metadata": {},
   "outputs": [],
   "source": [
    "housing = clean(config.HOUSING_CSV)\n",
    "housing = add_features(housing)\n",
    "housing = pd.read_pickle(config.HOUSING_PICKLE)"
   ]
  },
  {
   "cell_type": "code",
   "execution_count": 4,
   "metadata": {},
   "outputs": [],
   "source": [
    "the_chosen_variables = ['3SsnPorch', 'BedroomAbvGr', \n",
    "             'BsmtFinSF1', 'BsmtFinSF2', 'BsmtFullBath', 'BsmtHalfBath', \n",
    "             'BsmtUnfSF', 'EnclosedPorch', 'Fireplaces', 'FullBath', \n",
    "             'GarageArea', 'GarageCars', 'GarageYrBlt', 'GrLivArea', \n",
    "             'HalfBath', 'KitchenAbvGr', 'LotArea', 'LotFrontage', \n",
    "             'LowQualFinSF', 'MasVnrArea', 'MiscVal', 'MoSold', 'MSSubClass', \n",
    "             'OpenPorchSF', 'OverallCond', 'OverallQual', 'PoolArea', \n",
    "             'ScreenPorch', 'TotalBsmtSF', 'TotRmsAbvGrd', 'WoodDeckSF', \n",
    "             'YearBuilt', 'YearRemodAdd', 'YrSold','DecadeBuilt', 'DecadeRemodel',\n",
    "             'TotalLivingArea','UnusedLotSize','HasPool','HouseAge', 'HouseAgeSq',\n",
    "             'Toilets','Showers']"
   ]
  },
  {
   "cell_type": "code",
   "execution_count": 5,
   "metadata": {},
   "outputs": [],
   "source": [
    "# The following variables have been removed because they correlate with other variables.\n",
    "# Having them included would be redundant.\n",
    "the_chosen_variables.remove('GrLivArea')     # Baked into TotalLivingArea\n",
    "#the_chosen_variables.remove('1stFlrSF')      # Baked into TotalLivingArea?\n",
    "the_chosen_variables.remove('TotalBsmtSF')   # Baked into TotalLivingArea\n",
    "the_chosen_variables.remove('BsmtFinSF1')    # Baked into TotalLivingArea\n",
    "the_chosen_variables.remove('BsmtUnfSF')     # Baked into TotalLivingArea\n",
    "the_chosen_variables.remove('LotArea')       # Baked into UnusedLotSize\n",
    "the_chosen_variables.remove('HouseAgeSq')    # Baked into HouseAge\n",
    "the_chosen_variables.remove('YearBuilt')     # Baked into HouseAge\n",
    "the_chosen_variables.remove('GarageYrBlt')   # Redundant with YearRemodAdd/YearBuilt\n",
    "the_chosen_variables.remove('FullBath')      # Baked into Toilets/Showers\n",
    "the_chosen_variables.remove('HalfBath')      # Baked into Toilets\n",
    "the_chosen_variables.remove('BsmtFullBath')  # Baked into Toilets/Showers\n",
    "the_chosen_variables.remove('BsmtHalfBath')  # Baked into Toilets\n",
    "the_chosen_variables.remove('PoolArea')      # Redundant with HasPool\n",
    "the_chosen_variables.remove('GarageCars')    # Redundant with GarageArea"
   ]
  },
  {
   "cell_type": "code",
   "execution_count": 6,
   "metadata": {},
   "outputs": [],
   "source": [
    "the_chosen_variables = ['3SsnPorch','BedroomAbvGr','EnclosedPorch','Fireplaces',\n",
    "                    'GarageArea','KitchenAbvGr','LotFrontage','LowQualFinSF','MasVnrArea',\n",
    "                    'MiscVal','MoSold','MSSubClass','OpenPorchSF','OverallCond','OverallQual',\n",
    "                    'ScreenPorch','TotRmsAbvGrd','WoodDeckSF','YearRemodAdd','YrSold',\n",
    "                    'TotalLivingArea','UnusedLotSize','HasPool','HouseAge','Toilets','Showers',\n",
    "                       'UpDownRatio']"
   ]
  },
  {
   "cell_type": "code",
   "execution_count": 7,
   "metadata": {},
   "outputs": [],
   "source": [
    "limited_variables = ['TotalLivingArea','UnusedLotSize','HasPool','OverallQual','GarageArea','YearBuilt']\n",
    "X = housing[the_chosen_variables]\n",
    "dummy_vars = {'Neighborhood':'Nbhd','LotConfig':'LC','SaleCondition':'SC'}\n",
    "dummy_df = dummify(housing, dummy_vars)\n",
    "X = pd.concat([X,dummy_df], axis=1)\n",
    "y = np.log(housing['SalePrice'])"
   ]
  },
  {
   "cell_type": "code",
   "execution_count": 8,
   "metadata": {},
   "outputs": [],
   "source": [
    "from sklearn.model_selection import train_test_split\n",
    "X_train, X_test, y_train, y_test = train_test_split(X,y, test_size=0.2, random_state=42)"
   ]
  },
  {
   "cell_type": "code",
   "execution_count": 9,
   "metadata": {},
   "outputs": [
    {
     "name": "stdout",
     "output_type": "stream",
     "text": [
      "0.9742813178285777\n",
      "0.9103517916510846\n"
     ]
    }
   ],
   "source": [
    "from lightgbm import LGBMRegressor, cv\n",
    "lgb = LGBMRegressor(random_state=42)\n",
    "lgb.fit(X_train,y_train)\n",
    "print(lgb.score(X_train, y_train))\n",
    "print(lgb.score(X_test,y_test))"
   ]
  },
  {
   "cell_type": "code",
   "execution_count": 10,
   "metadata": {},
   "outputs": [
    {
     "name": "stdout",
     "output_type": "stream",
     "text": [
      "0.1169258599396627\n"
     ]
    }
   ],
   "source": [
    "from sklearn.metrics import mean_squared_error\n",
    "rms = mean_squared_error(y_test, lgb.predict(X_test), squared=False)\n",
    "print(rms)"
   ]
  },
  {
   "cell_type": "markdown",
   "metadata": {},
   "source": [
    "## Feature Importance"
   ]
  },
  {
   "cell_type": "code",
   "execution_count": 11,
   "metadata": {},
   "outputs": [
    {
     "data": {
      "text/html": [
       "<div>\n",
       "<style scoped>\n",
       "    .dataframe tbody tr th:only-of-type {\n",
       "        vertical-align: middle;\n",
       "    }\n",
       "\n",
       "    .dataframe tbody tr th {\n",
       "        vertical-align: top;\n",
       "    }\n",
       "\n",
       "    .dataframe thead th {\n",
       "        text-align: right;\n",
       "    }\n",
       "</style>\n",
       "<table border=\"1\" class=\"dataframe\">\n",
       "  <thead>\n",
       "    <tr style=\"text-align: right;\">\n",
       "      <th></th>\n",
       "      <th>Importance</th>\n",
       "    </tr>\n",
       "  </thead>\n",
       "  <tbody>\n",
       "    <tr>\n",
       "      <th>TotalLivingArea</th>\n",
       "      <td>348</td>\n",
       "    </tr>\n",
       "    <tr>\n",
       "      <th>UnusedLotSize</th>\n",
       "      <td>296</td>\n",
       "    </tr>\n",
       "    <tr>\n",
       "      <th>HouseAge</th>\n",
       "      <td>241</td>\n",
       "    </tr>\n",
       "    <tr>\n",
       "      <th>GarageArea</th>\n",
       "      <td>234</td>\n",
       "    </tr>\n",
       "    <tr>\n",
       "      <th>OverallQual</th>\n",
       "      <td>157</td>\n",
       "    </tr>\n",
       "    <tr>\n",
       "      <th>OverallCond</th>\n",
       "      <td>152</td>\n",
       "    </tr>\n",
       "    <tr>\n",
       "      <th>YearRemodAdd</th>\n",
       "      <td>150</td>\n",
       "    </tr>\n",
       "    <tr>\n",
       "      <th>OpenPorchSF</th>\n",
       "      <td>149</td>\n",
       "    </tr>\n",
       "    <tr>\n",
       "      <th>LotFrontage</th>\n",
       "      <td>136</td>\n",
       "    </tr>\n",
       "    <tr>\n",
       "      <th>MasVnrArea</th>\n",
       "      <td>136</td>\n",
       "    </tr>\n",
       "    <tr>\n",
       "      <th>WoodDeckSF</th>\n",
       "      <td>104</td>\n",
       "    </tr>\n",
       "    <tr>\n",
       "      <th>TotRmsAbvGrd</th>\n",
       "      <td>86</td>\n",
       "    </tr>\n",
       "    <tr>\n",
       "      <th>MSSubClass</th>\n",
       "      <td>73</td>\n",
       "    </tr>\n",
       "    <tr>\n",
       "      <th>MoSold</th>\n",
       "      <td>73</td>\n",
       "    </tr>\n",
       "    <tr>\n",
       "      <th>YrSold</th>\n",
       "      <td>66</td>\n",
       "    </tr>\n",
       "    <tr>\n",
       "      <th>UpDownRatio</th>\n",
       "      <td>64</td>\n",
       "    </tr>\n",
       "    <tr>\n",
       "      <th>SC_Abnorml</th>\n",
       "      <td>55</td>\n",
       "    </tr>\n",
       "    <tr>\n",
       "      <th>EnclosedPorch</th>\n",
       "      <td>45</td>\n",
       "    </tr>\n",
       "    <tr>\n",
       "      <th>Fireplaces</th>\n",
       "      <td>44</td>\n",
       "    </tr>\n",
       "    <tr>\n",
       "      <th>BedroomAbvGr</th>\n",
       "      <td>41</td>\n",
       "    </tr>\n",
       "    <tr>\n",
       "      <th>ScreenPorch</th>\n",
       "      <td>41</td>\n",
       "    </tr>\n",
       "    <tr>\n",
       "      <th>Showers</th>\n",
       "      <td>32</td>\n",
       "    </tr>\n",
       "    <tr>\n",
       "      <th>Toilets</th>\n",
       "      <td>31</td>\n",
       "    </tr>\n",
       "    <tr>\n",
       "      <th>Nbhd_Crawfor</th>\n",
       "      <td>31</td>\n",
       "    </tr>\n",
       "    <tr>\n",
       "      <th>Nbhd_Edwards</th>\n",
       "      <td>25</td>\n",
       "    </tr>\n",
       "  </tbody>\n",
       "</table>\n",
       "</div>"
      ],
      "text/plain": [
       "                 Importance\n",
       "TotalLivingArea         348\n",
       "UnusedLotSize           296\n",
       "HouseAge                241\n",
       "GarageArea              234\n",
       "OverallQual             157\n",
       "OverallCond             152\n",
       "YearRemodAdd            150\n",
       "OpenPorchSF             149\n",
       "LotFrontage             136\n",
       "MasVnrArea              136\n",
       "WoodDeckSF              104\n",
       "TotRmsAbvGrd             86\n",
       "MSSubClass               73\n",
       "MoSold                   73\n",
       "YrSold                   66\n",
       "UpDownRatio              64\n",
       "SC_Abnorml               55\n",
       "EnclosedPorch            45\n",
       "Fireplaces               44\n",
       "BedroomAbvGr             41\n",
       "ScreenPorch              41\n",
       "Showers                  32\n",
       "Toilets                  31\n",
       "Nbhd_Crawfor             31\n",
       "Nbhd_Edwards             25"
      ]
     },
     "execution_count": 11,
     "metadata": {},
     "output_type": "execute_result"
    }
   ],
   "source": [
    "d = pd.DataFrame(lgb.feature_importances_,index=X.columns,columns=['Importance'])\n",
    "d.sort_values('Importance',ascending=False).head(25)"
   ]
  },
  {
   "cell_type": "code",
   "execution_count": null,
   "metadata": {},
   "outputs": [],
   "source": []
  }
 ],
 "metadata": {
  "kernelspec": {
   "display_name": "Python 3",
   "language": "python",
   "name": "python3"
  },
  "language_info": {
   "codemirror_mode": {
    "name": "ipython",
    "version": 3
   },
   "file_extension": ".py",
   "mimetype": "text/x-python",
   "name": "python",
   "nbconvert_exporter": "python",
   "pygments_lexer": "ipython3",
   "version": "3.7.9"
  }
 },
 "nbformat": 4,
 "nbformat_minor": 4
}
