{
 "cells": [
  {
   "cell_type": "markdown",
   "metadata": {},
   "source": [
    "## Set up data set"
   ]
  },
  {
   "cell_type": "code",
   "execution_count": 1,
   "metadata": {},
   "outputs": [],
   "source": [
    "import pandas as pd\n",
    "import numpy as np\n",
    "\n",
    "import sys\n",
    "sys.path.append('../ames') # path the the directory\n",
    "import config\n",
    "from data_prep import clean, add_features, dummify\n",
    "\n",
    "housing = clean(config.HOUSING_CSV)\n",
    "housing = add_features(housing)"
   ]
  },
  {
   "cell_type": "markdown",
   "metadata": {},
   "source": [
    "## Define linear regression function"
   ]
  },
  {
   "cell_type": "code",
   "execution_count": 2,
   "metadata": {},
   "outputs": [],
   "source": [
    "import statsmodels.api as sm\n",
    "def ols(X, y, print_output=False):\n",
    "    X2 = sm.add_constant(X)\n",
    "    X_train, X_test, y_train, y_test = train_test_split(X2, y, test_size=.2, random_state=42)\n",
    "    reg = sm.OLS(y_train, X_train.astype(float)).fit()\n",
    "    if print_output:\n",
    "        print(reg.summary())\n",
    "        rss = np.sum((y_test-reg.predict(X_test))**2)\n",
    "        tss = np.sum((y_test-y_test.mean())**2)\n",
    "        print(f'Test R2: {1-(rss/tss)}')\n",
    "    return reg"
   ]
  },
  {
   "cell_type": "markdown",
   "metadata": {},
   "source": [
    "## Create base data set"
   ]
  },
  {
   "cell_type": "code",
   "execution_count": 3,
   "metadata": {},
   "outputs": [],
   "source": [
    "from sklearn.model_selection import train_test_split, GridSearchCV\n",
    "X = housing[config.CONTINUOUS_VARIABLES].copy()\n",
    "dummy_df = dummify(housing, config.VARS_TO_DUMMIFY, drop_first=False)\n",
    "X = pd.concat([X,dummy_df], axis=1)\n",
    "y = np.log(housing['SalePrice'])"
   ]
  },
  {
   "cell_type": "code",
   "execution_count": 4,
   "metadata": {},
   "outputs": [
    {
     "name": "stdout",
     "output_type": "stream",
     "text": [
      "                            OLS Regression Results                            \n",
      "==============================================================================\n",
      "Dep. Variable:              SalePrice   R-squared:                       0.904\n",
      "Model:                            OLS   Adj. R-squared:                  0.903\n",
      "Method:                 Least Squares   F-statistic:                     797.4\n",
      "Date:                Sun, 07 Mar 2021   Prob (F-statistic):               0.00\n",
      "Time:                        19:58:10   Log-Likelihood:                 1449.4\n",
      "No. Observations:                2063   AIC:                            -2849.\n",
      "Df Residuals:                    2038   BIC:                            -2708.\n",
      "Df Model:                          24                                         \n",
      "Covariance Type:            nonrobust                                         \n",
      "===================================================================================\n",
      "                      coef    std err          t      P>|t|      [0.025      0.975]\n",
      "-----------------------------------------------------------------------------------\n",
      "const               2.5675      0.366      7.008      0.000       1.849       3.286\n",
      "1stFlrSF         2.782e-05   1.35e-05      2.057      0.040     1.3e-06    5.43e-05\n",
      "BQ_Ex               0.0269      0.013      2.132      0.033       0.002       0.052\n",
      "BT_1Fam             0.0981      0.008     12.640      0.000       0.083       0.113\n",
      "Fireplaces          0.0316      0.005      6.152      0.000       0.022       0.042\n",
      "GarageArea       7.086e-05   2.92e-05      2.423      0.015    1.35e-05       0.000\n",
      "GarageCars          0.0322      0.008      3.835      0.000       0.016       0.049\n",
      "GrLivArea           0.0002   1.07e-05     15.120      0.000       0.000       0.000\n",
      "LotArea           2.05e-06   3.63e-07      5.648      0.000    1.34e-06    2.76e-06\n",
      "Nbhd_ClearCr        0.0835      0.022      3.825      0.000       0.041       0.126\n",
      "Nbhd_Crawfor        0.1431      0.015      9.468      0.000       0.113       0.173\n",
      "Nbhd_GrnHill        0.5725      0.122      4.703      0.000       0.334       0.811\n",
      "Nbhd_NridgHt        0.0814      0.015      5.397      0.000       0.052       0.111\n",
      "Nbhd_Somerst        0.0783      0.013      5.965      0.000       0.053       0.104\n",
      "Nbhd_StoneBr        0.1362      0.024      5.625      0.000       0.089       0.184\n",
      "OverallCond         0.0526      0.003     17.841      0.000       0.047       0.058\n",
      "OverallQual         0.0748      0.003     22.317      0.000       0.068       0.081\n",
      "ScreenPorch         0.0002   4.74e-05      4.877      0.000       0.000       0.000\n",
      "Showers             0.0164      0.007      2.317      0.021       0.003       0.030\n",
      "Toilets             0.0038      0.007      0.568      0.570      -0.009       0.017\n",
      "TotalBsmtSF      8.278e-05   1.15e-05      7.198      0.000    6.02e-05       0.000\n",
      "TotalLivingArea  7.382e-05   8.44e-06      8.749      0.000    5.73e-05    9.04e-05\n",
      "WoodDeckSF       4.255e-05   2.24e-05      1.896      0.058   -1.46e-06    8.66e-05\n",
      "YearBuilt           0.0032      0.000     20.451      0.000       0.003       0.004\n",
      "YearRemodAdd        0.0008      0.000      4.320      0.000       0.000       0.001\n",
      "==============================================================================\n",
      "Omnibus:                     1650.561   Durbin-Watson:                   2.030\n",
      "Prob(Omnibus):                  0.000   Jarque-Bera (JB):           128436.151\n",
      "Skew:                          -3.192   Prob(JB):                         0.00\n",
      "Kurtosis:                      41.124   Cond. No.                     1.84e+06\n",
      "==============================================================================\n",
      "\n",
      "Notes:\n",
      "[1] Standard Errors assume that the covariance matrix of the errors is correctly specified.\n",
      "[2] The condition number is large, 1.84e+06. This might indicate that there are\n",
      "strong multicollinearity or other numerical problems.\n",
      "Test R2: 0.9257255489687367\n"
     ]
    }
   ],
   "source": [
    "X_subset = X.loc[:, config.LASSO_VARS_FROM_ALL]\n",
    "reg_all = ols(X_subset, y, True)"
   ]
  },
  {
   "cell_type": "markdown",
   "metadata": {},
   "source": [
    "## Create data set from chosen variables"
   ]
  },
  {
   "cell_type": "code",
   "execution_count": 5,
   "metadata": {},
   "outputs": [
    {
     "name": "stdout",
     "output_type": "stream",
     "text": [
      "                            OLS Regression Results                            \n",
      "==============================================================================\n",
      "Dep. Variable:              SalePrice   R-squared:                       0.870\n",
      "Model:                            OLS   Adj. R-squared:                  0.869\n",
      "Method:                 Least Squares   F-statistic:                     686.0\n",
      "Date:                Sun, 07 Mar 2021   Prob (F-statistic):               0.00\n",
      "Time:                        19:58:10   Log-Likelihood:                 1142.8\n",
      "No. Observations:                2063   AIC:                            -2244.\n",
      "Df Residuals:                    2042   BIC:                            -2125.\n",
      "Df Model:                          20                                         \n",
      "Covariance Type:            nonrobust                                         \n",
      "===================================================================================\n",
      "                      coef    std err          t      P>|t|      [0.025      0.975]\n",
      "-----------------------------------------------------------------------------------\n",
      "const              10.4162      0.024    440.303      0.000      10.370      10.463\n",
      "BQ_Ex               0.1175      0.017      6.954      0.000       0.084       0.151\n",
      "BQ_Gd               0.0893      0.009     10.366      0.000       0.072       0.106\n",
      "BT_1Fam             0.0970      0.009     10.374      0.000       0.079       0.115\n",
      "GarageArea          0.0003   1.93e-05     13.799      0.000       0.000       0.000\n",
      "LotFrontage         0.0002   9.94e-05      2.068      0.039    1.06e-05       0.000\n",
      "Nbhd_Blmngtn        0.1708      0.032      5.309      0.000       0.108       0.234\n",
      "Nbhd_ClearCr        0.0941      0.025      3.704      0.000       0.044       0.144\n",
      "Nbhd_Crawfor        0.1362      0.017      8.003      0.000       0.103       0.170\n",
      "Nbhd_Gilbert        0.0811      0.015      5.363      0.000       0.051       0.111\n",
      "Nbhd_GrnHill        0.6054      0.140      4.313      0.000       0.330       0.881\n",
      "Nbhd_NoRidge        0.1008      0.020      4.939      0.000       0.061       0.141\n",
      "Nbhd_NridgHt        0.1361      0.018      7.593      0.000       0.101       0.171\n",
      "Nbhd_Somerst        0.1168      0.016      7.489      0.000       0.086       0.147\n",
      "Nbhd_StoneBr        0.1774      0.028      6.265      0.000       0.122       0.233\n",
      "OverallCond         0.0378      0.003     12.680      0.000       0.032       0.044\n",
      "OverallQual         0.1064      0.004     29.618      0.000       0.099       0.113\n",
      "SC_Partial          0.0375      0.019      1.988      0.047       0.001       0.074\n",
      "Toilets             0.0308      0.005      5.935      0.000       0.021       0.041\n",
      "TotalLivingArea     0.0002   7.09e-06     24.708      0.000       0.000       0.000\n",
      "UnusedLotSize    2.736e-06   4.16e-07      6.583      0.000    1.92e-06    3.55e-06\n",
      "==============================================================================\n",
      "Omnibus:                     1255.766   Durbin-Watson:                   1.996\n",
      "Prob(Omnibus):                  0.000   Jarque-Bera (JB):            44141.397\n",
      "Skew:                          -2.291   Prob(JB):                         0.00\n",
      "Kurtosis:                      25.193   Cond. No.                     5.53e+05\n",
      "==============================================================================\n",
      "\n",
      "Notes:\n",
      "[1] Standard Errors assume that the covariance matrix of the errors is correctly specified.\n",
      "[2] The condition number is large, 5.53e+05. This might indicate that there are\n",
      "strong multicollinearity or other numerical problems.\n",
      "Test R2: 0.8824334096278325\n"
     ]
    }
   ],
   "source": [
    "X_subset = X.loc[:, config.LASSO_VARS_FROM_CHOSEN]\n",
    "X_subset.drop('Showers', axis=1, inplace=True) # Dropped because of multi-collinearity\n",
    "reg_chosen = ols(X_subset, y, True)"
   ]
  },
  {
   "cell_type": "code",
   "execution_count": 6,
   "metadata": {},
   "outputs": [
    {
     "name": "stdout",
     "output_type": "stream",
     "text": [
      "0.1380362008350062\n"
     ]
    }
   ],
   "source": [
    "from sklearn.metrics import mean_squared_error\n",
    "rms = mean_squared_error(y, reg_chosen.predict(sm.add_constant(X_subset)), squared=False)\n",
    "print(rms)"
   ]
  },
  {
   "cell_type": "code",
   "execution_count": null,
   "metadata": {},
   "outputs": [],
   "source": []
  }
 ],
 "metadata": {
  "kernelspec": {
   "display_name": "Python 3",
   "language": "python",
   "name": "python3"
  },
  "language_info": {
   "codemirror_mode": {
    "name": "ipython",
    "version": 3
   },
   "file_extension": ".py",
   "mimetype": "text/x-python",
   "name": "python",
   "nbconvert_exporter": "python",
   "pygments_lexer": "ipython3",
   "version": "3.7.9"
  }
 },
 "nbformat": 4,
 "nbformat_minor": 4
}
