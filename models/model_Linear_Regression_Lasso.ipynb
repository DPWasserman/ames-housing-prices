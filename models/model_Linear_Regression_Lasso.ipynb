{
 "cells": [
  {
   "cell_type": "code",
   "execution_count": 1,
   "metadata": {},
   "outputs": [],
   "source": [
    "import pandas as pd\n",
    "import numpy as np"
   ]
  },
  {
   "cell_type": "code",
   "execution_count": 2,
   "metadata": {},
   "outputs": [],
   "source": [
    "import sys\n",
    "sys.path.append('../ames') # path the the directory\n",
    "import config\n",
    "from data_prep import clean, add_features, dummify"
   ]
  },
  {
   "cell_type": "code",
   "execution_count": 3,
   "metadata": {},
   "outputs": [],
   "source": [
    "from sklearn.model_selection import train_test_split\n",
    "from sklearn.linear_model import LinearRegression, Lasso\n",
    "from sklearn.model_selection import KFold\n",
    "from sklearn.model_selection import cross_val_score"
   ]
  },
  {
   "cell_type": "code",
   "execution_count": 4,
   "metadata": {},
   "outputs": [],
   "source": [
    "housing = clean(config.HOUSING_CSV)\n",
    "housing = add_features(housing)"
   ]
  },
  {
   "cell_type": "code",
   "execution_count": 5,
   "metadata": {},
   "outputs": [],
   "source": [
    "X = housing[config.CHOSEN_VARIABLES]\n",
    "dummy_df = dummify(housing, config.VARS_TO_DUMMIFY, drop_first=True)\n",
    "X = pd.concat([X,dummy_df], axis=1)\n",
    "y = np.log(housing['SalePrice'])\n",
    "X_train, X_test, y_train, y_test = train_test_split(X, y, test_size=.2, random_state=42)"
   ]
  },
  {
   "cell_type": "code",
   "execution_count": 6,
   "metadata": {},
   "outputs": [],
   "source": [
    "lasso = Lasso()"
   ]
  },
  {
   "cell_type": "code",
   "execution_count": 12,
   "metadata": {},
   "outputs": [],
   "source": [
    "train_R2 = []\n",
    "test_R2  = []\n",
    "alphaRange = np.linspace(1e-10,0.003,200)\n",
    "for alpha in alphaRange:\n",
    "    lasso.set_params(alpha=alpha, normalize=True, max_iter=10000)  \n",
    "    lasso.fit(X, y)\n",
    "    train_R2.append(lasso.score(X_train, y_train))\n",
    "    test_R2.append(lasso.score(X_test, y_test))"
   ]
  },
  {
   "cell_type": "code",
   "execution_count": 14,
   "metadata": {},
   "outputs": [
    {
     "data": {
      "text/plain": [
       "<matplotlib.legend.Legend at 0x28d69d8aac8>"
      ]
     },
     "execution_count": 14,
     "metadata": {},
     "output_type": "execute_result"
    },
    {
     "data": {
      "image/png": "[encoded data removed]",
      "text/plain": [
       "<Figure size 432x288 with 1 Axes>"
      ]
     },
     "metadata": {
      "needs_background": "light"
     },
     "output_type": "display_data"
    }
   ],
   "source": [
    "from matplotlib import pyplot as plt\n",
    "plt.plot(alphaRange, train_R2, label=r'train set $R^2$')\n",
    "plt.plot(alphaRange, test_R2, label=r'test set $R^2$')\n",
    "plt.legend()"
   ]
  },
  {
   "cell_type": "code",
   "execution_count": 15,
   "metadata": {},
   "outputs": [
    {
     "data": {
      "text/plain": [
       "4.271365929648241e-05"
      ]
     },
     "execution_count": 15,
     "metadata": {},
     "output_type": "execute_result"
    }
   ],
   "source": [
    "diff = np.abs(np.array(train_R2)-np.array(test_R2))\n",
    "best_alpha = alphaRange[diff==min(diff)][0]\n",
    "best_alpha"
   ]
  },
  {
   "cell_type": "code",
   "execution_count": 10,
   "metadata": {},
   "outputs": [
    {
     "name": "stdout",
     "output_type": "stream",
     "text": [
      "The intercept is 10.7244\n",
      "The slopes are \n",
      " LotFrontage        0.000000\n",
      "UnusedLotSize      0.000002\n",
      "HouseAge          -0.002257\n",
      "HouseAgeSq        -0.000000\n",
      "OverallQual        0.116727\n",
      "OverallCond        0.028299\n",
      "TotalLivingArea    0.000187\n",
      "Toilets            0.009910\n",
      "Showers            0.000000\n",
      "UpDownRatio        0.000000\n",
      "GarageArea         0.000220\n",
      "HasPool            0.000000\n",
      "Nbhd_Blueste      -0.000000\n",
      "Nbhd_BrDale       -0.058522\n",
      "Nbhd_BrkSide       0.000000\n",
      "Nbhd_ClearCr       0.000000\n",
      "Nbhd_CollgCr       0.000000\n",
      "Nbhd_Crawfor       0.083540\n",
      "Nbhd_Edwards      -0.000000\n",
      "Nbhd_Gilbert       0.000000\n",
      "Nbhd_Greens       -0.000000\n",
      "Nbhd_GrnHill       0.000000\n",
      "Nbhd_IDOTRR       -0.013808\n",
      "Nbhd_Landmrk       0.000000\n",
      "Nbhd_MeadowV      -0.047722\n",
      "Nbhd_Mitchel      -0.000000\n",
      "Nbhd_NAmes        -0.000000\n",
      "Nbhd_NPkVill      -0.000000\n",
      "Nbhd_NWAmes       -0.000000\n",
      "Nbhd_NoRidge       0.000536\n",
      "Nbhd_NridgHt       0.021982\n",
      "Nbhd_OldTown      -0.000000\n",
      "Nbhd_SWISU        -0.000000\n",
      "Nbhd_Sawyer       -0.000000\n",
      "Nbhd_SawyerW      -0.000000\n",
      "Nbhd_Somerst       0.000000\n",
      "Nbhd_StoneBr       0.000000\n",
      "Nbhd_Timber        0.000000\n",
      "Nbhd_Veenker      -0.000000\n",
      "LC_CulDSac         0.000000\n",
      "LC_FR2            -0.000000\n",
      "LC_FR3            -0.000000\n",
      "LC_Inside         -0.000000\n",
      "SC_AdjLand        -0.000000\n",
      "SC_Alloca          0.000000\n",
      "SC_Family         -0.000000\n",
      "SC_Normal          0.000000\n",
      "SC_Partial         0.003297\n",
      "BT_2fmCon         -0.000000\n",
      "BT_Duplex         -0.015667\n",
      "BT_Twnhs          -0.077304\n",
      "BT_TwnhsE         -0.000000\n",
      "BQ_Fa             -0.000000\n",
      "BQ_Gd              0.000000\n",
      "BQ_None           -0.000000\n",
      "BQ_Po             -0.000000\n",
      "BQ_TA             -0.000000\n",
      "dtype: float64\n"
     ]
    }
   ],
   "source": [
    "lasso.set_params(alpha=0.0003, normalize=True)\n",
    "lasso.fit(X_train, y_train)\n",
    "print('The intercept is %.4f' %(lasso.intercept_))\n",
    "lassoCoef = pd.Series(lasso.coef_, index=X.columns)\n",
    "print('The slopes are \\n %s' %(lassoCoef))"
   ]
  },
  {
   "cell_type": "code",
   "execution_count": 11,
   "metadata": {},
   "outputs": [
    {
     "data": {
      "text/plain": [
       "Index(['OverallQual', 'Nbhd_Crawfor', 'BT_Twnhs', 'Nbhd_BrDale',\n",
       "       'Nbhd_MeadowV', 'OverallCond', 'Nbhd_NridgHt', 'BT_Duplex',\n",
       "       'Nbhd_IDOTRR', 'Toilets', 'SC_Partial', 'HouseAge', 'Nbhd_NoRidge',\n",
       "       'GarageArea', 'TotalLivingArea', 'UnusedLotSize'],\n",
       "      dtype='object')"
      ]
     },
     "execution_count": 11,
     "metadata": {},
     "output_type": "execute_result"
    }
   ],
   "source": [
    "sortedCoefs = lassoCoef.sort_values(ascending=False, key=np.abs)\n",
    "sortedCoefs[np.abs(sortedCoefs)>0].index"
   ]
  },
  {
   "cell_type": "code",
   "execution_count": null,
   "metadata": {},
   "outputs": [],
   "source": []
  }
 ],
 "metadata": {
  "kernelspec": {
   "display_name": "Python 3",
   "language": "python",
   "name": "python3"
  },
  "language_info": {
   "codemirror_mode": {
    "name": "ipython",
    "version": 3
   },
   "file_extension": ".py",
   "mimetype": "text/x-python",
   "name": "python",
   "nbconvert_exporter": "python",
   "pygments_lexer": "ipython3",
   "version": "3.7.9"
  }
 },
 "nbformat": 4,
 "nbformat_minor": 4
}
