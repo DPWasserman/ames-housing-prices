{
 "cells": [
  {
   "cell_type": "code",
   "execution_count": 1,
   "metadata": {},
   "outputs": [],
   "source": [
    "import pandas as pd\n",
    "import numpy as np\n",
    "\n",
    "import sys\n",
    "sys.path.append('../ames') # path the the directory\n",
    "import config\n",
    "from data_prep import clean, add_features, dummify\n",
    "\n",
    "housing = clean(config.HOUSING_CSV)\n",
    "housing = add_features(housing)"
   ]
  },
  {
   "cell_type": "code",
   "execution_count": 3,
   "metadata": {},
   "outputs": [],
   "source": [
    "from sklearn.model_selection import train_test_split\n",
    "from sklearn.linear_model import LinearRegression\n",
    "from sklearn.model_selection import KFold\n",
    "from sklearn.model_selection import cross_val_score"
   ]
  },
  {
   "cell_type": "code",
   "execution_count": 11,
   "metadata": {},
   "outputs": [],
   "source": [
    "def lr(housing, regress_vars,dummy_dict, final_vars):\n",
    "    X = housing[regress_vars].copy()\n",
    "    dummy_df = dummify(housing, dummy_dict, drop_first=True)\n",
    "    X = pd.concat([X,dummy_df], axis=1)\n",
    "    y = np.log(housing['SalePrice'])\n",
    "    X = X[final_vars]\n",
    "    X_train, X_test, y_train, y_test = train_test_split(X, y, test_size=.2) # , random_state=42)\n",
    "    reg = LinearRegression()\n",
    "    folds = KFold(n_splits=10,shuffle=True) # , random_state=42)\n",
    "    train_scores = cross_val_score(reg, X_train, y_train, scoring=\"neg_root_mean_squared_error\", cv=folds)\n",
    "    test_scores = cross_val_score(reg, X_test, y_test, scoring=\"neg_root_mean_squared_error\", cv=folds)\n",
    "    return -np.mean(train_scores), -np.mean(test_scores)"
   ]
  },
  {
   "cell_type": "code",
   "execution_count": 16,
   "metadata": {},
   "outputs": [
    {
     "data": {
      "text/plain": [
       "(0.13429185569667607, 0.13675636935750554)"
      ]
     },
     "execution_count": 16,
     "metadata": {},
     "output_type": "execute_result"
    }
   ],
   "source": [
    "lr(housing, config.CHOSEN_VARIABLES, config.VARS_TO_DUMMIFY, config.VARS_AFTER_LASSO)"
   ]
  },
  {
   "cell_type": "code",
   "execution_count": null,
   "metadata": {},
   "outputs": [],
   "source": []
  }
 ],
 "metadata": {
  "kernelspec": {
   "display_name": "Python 3",
   "language": "python",
   "name": "python3"
  },
  "language_info": {
   "codemirror_mode": {
    "name": "ipython",
    "version": 3
   },
   "file_extension": ".py",
   "mimetype": "text/x-python",
   "name": "python",
   "nbconvert_exporter": "python",
   "pygments_lexer": "ipython3",
   "version": "3.7.9"
  }
 },
 "nbformat": 4,
 "nbformat_minor": 4
}
