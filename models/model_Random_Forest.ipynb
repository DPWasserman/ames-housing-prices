{
 "cells": [
  {
   "cell_type": "code",
   "execution_count": 1,
   "metadata": {},
   "outputs": [],
   "source": [
    "import pandas as pd\n",
    "import numpy as np"
   ]
  },
  {
   "cell_type": "code",
   "execution_count": 2,
   "metadata": {},
   "outputs": [],
   "source": [
    "import sys\n",
    "sys.path.append('../ames') # path the the directory\n",
    "import config\n",
    "from data_prep import clean, add_features, dummify"
   ]
  },
  {
   "cell_type": "code",
   "execution_count": 3,
   "metadata": {},
   "outputs": [],
   "source": [
    "housing = clean(config.HOUSING_CSV)\n",
    "housing = add_features(housing)\n",
    "# housing = pd.read_pickle(config.HOUSING_PICKLE)"
   ]
  },
  {
   "cell_type": "code",
   "execution_count": 10,
   "metadata": {},
   "outputs": [],
   "source": [
    "limited_variables = ['TotalLivingArea','UnusedLotSize','HasPool','OverallQual','GarageArea','YearBuilt']\n",
    "top_unique_features = ['TotalLivingArea','YearRemodAdd','GarageArea','TotalBsmtSF',\n",
    "                       'FullBath','UnusedLotSize','MasVnrArea','MoSold','LotFrontage','Fireplaces',\n",
    "                       'TotRmsAbvGrd', 'OverallQual','HouseAge']\n",
    "the_chosen_variables = ['3SsnPorch','BedroomAbvGr','EnclosedPorch','Fireplaces',\n",
    "                    'GarageArea','KitchenAbvGr','LotFrontage','LowQualFinSF','MasVnrArea',\n",
    "                    'MiscVal','MoSold','MSSubClass','OpenPorchSF','OverallCond','OverallQual',\n",
    "                    'ScreenPorch','TotRmsAbvGrd','WoodDeckSF','YearRemodAdd','YrSold',\n",
    "                    'TotalLivingArea','UnusedLotSize','HasPool','HouseAge','Toilets','Showers',\n",
    "                       'UpDownRatio']\n",
    "best_vars = ['Fireplaces', 'LotFrontage', 'UnusedLotSize', 'HouseAge', 'HouseAgeSq', 'OverallQual',\n",
    "            'OverallCond', 'GrLivArea', 'TotalLivingArea', 'Toilets', 'Showers', 'UpDownRatio',\n",
    "             'GarageArea', 'HasPool']\n",
    "X = housing[best_vars]\n",
    "dummy_vars = {'BldgType': 'BT', 'BsmtQual': 'BQ',\n",
    "              'LotConfig': 'LC', 'Neighborhood': 'Nbhd', 'SaleCondition': 'SC'}\n",
    "\n",
    "dummy_df = dummify(housing, dummy_vars)\n",
    "X = pd.concat([X,dummy_df], axis=1)\n",
    "y = np.log(housing['SalePrice'])"
   ]
  },
  {
   "cell_type": "code",
   "execution_count": 11,
   "metadata": {},
   "outputs": [],
   "source": [
    "from sklearn.model_selection import train_test_split\n",
    "X_train, X_test, y_train, y_test = train_test_split(X,y, test_size=0.2, random_state=42)"
   ]
  },
  {
   "cell_type": "code",
   "execution_count": 12,
   "metadata": {
    "scrolled": true
   },
   "outputs": [
    {
     "name": "stdout",
     "output_type": "stream",
     "text": [
      "0.9844847402912628\n",
      "0.9040598586819906\n"
     ]
    }
   ],
   "source": [
    "from sklearn.ensemble import RandomForestRegressor\n",
    "rfr = RandomForestRegressor(max_features='sqrt', random_state=42)\n",
    "rfr.fit(X_train,y_train)\n",
    "print(rfr.score(X_train, y_train))\n",
    "print(rfr.score(X_test,y_test))"
   ]
  },
  {
   "cell_type": "code",
   "execution_count": 20,
   "metadata": {},
   "outputs": [
    {
     "name": "stdout",
     "output_type": "stream",
     "text": [
      "0.04812049255639273\n",
      "0.1209594886860938\n"
     ]
    }
   ],
   "source": [
    "from sklearn.metrics import mean_squared_error\n",
    "print(mean_squared_error(y_train, rfr.predict(X_train), squared=False))\n",
    "print(mean_squared_error(y_test, rfr.predict(X_test), squared=False))"
   ]
  },
  {
   "cell_type": "markdown",
   "metadata": {},
   "source": [
    "## Feature Importance"
   ]
  },
  {
   "cell_type": "code",
   "execution_count": 8,
   "metadata": {},
   "outputs": [],
   "source": [
    "top_unique_features = ['OverallQual','TotalLivingArea','YearRemodAdd','GarageArea','TotalBsmtSF',\n",
    "                       'FullBath','UnusedLotSize','MasVnrArea','MoSold','LotFrontage','Fireplaces',\n",
    "                       'TotRmsAbvGrd']"
   ]
  },
  {
   "cell_type": "code",
   "execution_count": 10,
   "metadata": {},
   "outputs": [
    {
     "data": {
      "text/html": [
       "<div>\n",
       "<style scoped>\n",
       "    .dataframe tbody tr th:only-of-type {\n",
       "        vertical-align: middle;\n",
       "    }\n",
       "\n",
       "    .dataframe tbody tr th {\n",
       "        vertical-align: top;\n",
       "    }\n",
       "\n",
       "    .dataframe thead th {\n",
       "        text-align: right;\n",
       "    }\n",
       "</style>\n",
       "<table border=\"1\" class=\"dataframe\">\n",
       "  <thead>\n",
       "    <tr style=\"text-align: right;\">\n",
       "      <th></th>\n",
       "      <th>Importance</th>\n",
       "    </tr>\n",
       "  </thead>\n",
       "  <tbody>\n",
       "    <tr>\n",
       "      <th>OverallQual</th>\n",
       "      <td>0.178221</td>\n",
       "    </tr>\n",
       "    <tr>\n",
       "      <th>TotalLivingArea</th>\n",
       "      <td>0.169418</td>\n",
       "    </tr>\n",
       "    <tr>\n",
       "      <th>GarageArea</th>\n",
       "      <td>0.098887</td>\n",
       "    </tr>\n",
       "    <tr>\n",
       "      <th>HouseAge</th>\n",
       "      <td>0.092726</td>\n",
       "    </tr>\n",
       "    <tr>\n",
       "      <th>TotalBsmtSF</th>\n",
       "      <td>0.086853</td>\n",
       "    </tr>\n",
       "    <tr>\n",
       "      <th>FullBath</th>\n",
       "      <td>0.053770</td>\n",
       "    </tr>\n",
       "    <tr>\n",
       "      <th>YearRemodAdd</th>\n",
       "      <td>0.052227</td>\n",
       "    </tr>\n",
       "    <tr>\n",
       "      <th>Fireplaces</th>\n",
       "      <td>0.042593</td>\n",
       "    </tr>\n",
       "    <tr>\n",
       "      <th>MasVnrArea</th>\n",
       "      <td>0.038428</td>\n",
       "    </tr>\n",
       "    <tr>\n",
       "      <th>UnusedLotSize</th>\n",
       "      <td>0.037434</td>\n",
       "    </tr>\n",
       "    <tr>\n",
       "      <th>LotFrontage</th>\n",
       "      <td>0.034379</td>\n",
       "    </tr>\n",
       "    <tr>\n",
       "      <th>TotRmsAbvGrd</th>\n",
       "      <td>0.027004</td>\n",
       "    </tr>\n",
       "    <tr>\n",
       "      <th>Nbhd_NridgHt</th>\n",
       "      <td>0.014548</td>\n",
       "    </tr>\n",
       "    <tr>\n",
       "      <th>MoSold</th>\n",
       "      <td>0.011024</td>\n",
       "    </tr>\n",
       "    <tr>\n",
       "      <th>Nbhd_NoRidge</th>\n",
       "      <td>0.010345</td>\n",
       "    </tr>\n",
       "    <tr>\n",
       "      <th>Nbhd_OldTown</th>\n",
       "      <td>0.004034</td>\n",
       "    </tr>\n",
       "    <tr>\n",
       "      <th>Nbhd_NAmes</th>\n",
       "      <td>0.003966</td>\n",
       "    </tr>\n",
       "    <tr>\n",
       "      <th>SC_Partial</th>\n",
       "      <td>0.003851</td>\n",
       "    </tr>\n",
       "    <tr>\n",
       "      <th>Nbhd_StoneBr</th>\n",
       "      <td>0.003492</td>\n",
       "    </tr>\n",
       "    <tr>\n",
       "      <th>Nbhd_Crawfor</th>\n",
       "      <td>0.003154</td>\n",
       "    </tr>\n",
       "    <tr>\n",
       "      <th>SC_Normal</th>\n",
       "      <td>0.003136</td>\n",
       "    </tr>\n",
       "    <tr>\n",
       "      <th>LC_Inside</th>\n",
       "      <td>0.002912</td>\n",
       "    </tr>\n",
       "    <tr>\n",
       "      <th>Nbhd_Somerst</th>\n",
       "      <td>0.002784</td>\n",
       "    </tr>\n",
       "    <tr>\n",
       "      <th>Nbhd_Edwards</th>\n",
       "      <td>0.002573</td>\n",
       "    </tr>\n",
       "    <tr>\n",
       "      <th>Nbhd_CollgCr</th>\n",
       "      <td>0.001785</td>\n",
       "    </tr>\n",
       "  </tbody>\n",
       "</table>\n",
       "</div>"
      ],
      "text/plain": [
       "                 Importance\n",
       "OverallQual        0.178221\n",
       "TotalLivingArea    0.169418\n",
       "GarageArea         0.098887\n",
       "HouseAge           0.092726\n",
       "TotalBsmtSF        0.086853\n",
       "FullBath           0.053770\n",
       "YearRemodAdd       0.052227\n",
       "Fireplaces         0.042593\n",
       "MasVnrArea         0.038428\n",
       "UnusedLotSize      0.037434\n",
       "LotFrontage        0.034379\n",
       "TotRmsAbvGrd       0.027004\n",
       "Nbhd_NridgHt       0.014548\n",
       "MoSold             0.011024\n",
       "Nbhd_NoRidge       0.010345\n",
       "Nbhd_OldTown       0.004034\n",
       "Nbhd_NAmes         0.003966\n",
       "SC_Partial         0.003851\n",
       "Nbhd_StoneBr       0.003492\n",
       "Nbhd_Crawfor       0.003154\n",
       "SC_Normal          0.003136\n",
       "LC_Inside          0.002912\n",
       "Nbhd_Somerst       0.002784\n",
       "Nbhd_Edwards       0.002573\n",
       "Nbhd_CollgCr       0.001785"
      ]
     },
     "execution_count": 10,
     "metadata": {},
     "output_type": "execute_result"
    }
   ],
   "source": [
    "d = pd.DataFrame(rfr.feature_importances_,index=X.columns,columns=['Importance'])\n",
    "d.sort_values('Importance',ascending=False).head(25)"
   ]
  },
  {
   "cell_type": "code",
   "execution_count": 11,
   "metadata": {
    "scrolled": true
   },
   "outputs": [
    {
     "data": {
      "text/plain": [
       "{'bootstrap': True,\n",
       " 'ccp_alpha': 0.0,\n",
       " 'criterion': 'mse',\n",
       " 'max_depth': None,\n",
       " 'max_features': 'sqrt',\n",
       " 'max_leaf_nodes': None,\n",
       " 'max_samples': None,\n",
       " 'min_impurity_decrease': 0.0,\n",
       " 'min_impurity_split': None,\n",
       " 'min_samples_leaf': 1,\n",
       " 'min_samples_split': 2,\n",
       " 'min_weight_fraction_leaf': 0.0,\n",
       " 'n_estimators': 100,\n",
       " 'n_jobs': None,\n",
       " 'oob_score': False,\n",
       " 'random_state': 42,\n",
       " 'verbose': 0,\n",
       " 'warm_start': False}"
      ]
     },
     "execution_count": 11,
     "metadata": {},
     "output_type": "execute_result"
    }
   ],
   "source": [
    "rfr.get_params()"
   ]
  },
  {
   "cell_type": "code",
   "execution_count": 14,
   "metadata": {},
   "outputs": [],
   "source": [
    "# Number of trees in random forest\n",
    "n_estimators = [i*10 for i in range(3,11)] #[int(x) for x in np.linspace(start=10, stop=80, num=10)]\n",
    "# Maximum number of levels in tree\n",
    "max_depth = [i*2+1 for i in range(1,5)] + [None]\n",
    "# Minimum number of samples required to split a node\n",
    "min_samples_split = [2,3,4,5]\n",
    "# Minimum number of samples required at each leaf node\n",
    "min_samples_leaf = [1]\n",
    "# Method of selecting samples for training each tree\n",
    "bootstrap = [True]\n",
    "\n",
    "param_grid = {'n_estimators': n_estimators,\n",
    "              'max_depth': max_depth,\n",
    "              'min_samples_split': min_samples_split,\n",
    "              'min_samples_leaf': min_samples_leaf,\n",
    "              'bootstrap': bootstrap}\n",
    "\n",
    "param_grid = {'bootstrap':bootstrap,'n_estimators':n_estimators}"
   ]
  },
  {
   "cell_type": "code",
   "execution_count": 15,
   "metadata": {},
   "outputs": [
    {
     "name": "stdout",
     "output_type": "stream",
     "text": [
      "Fitting 10 folds for each of 8 candidates, totalling 80 fits\n"
     ]
    },
    {
     "name": "stderr",
     "output_type": "stream",
     "text": [
      "[Parallel(n_jobs=4)]: Using backend LokyBackend with 4 concurrent workers.\n",
      "[Parallel(n_jobs=4)]: Done  33 tasks      | elapsed:   19.6s\n",
      "[Parallel(n_jobs=4)]: Done  80 out of  80 | elapsed:   58.6s finished\n"
     ]
    },
    {
     "data": {
      "text/plain": [
       "GridSearchCV(cv=10, estimator=RandomForestRegressor(random_state=42), n_jobs=4,\n",
       "             param_grid={'bootstrap': [True],\n",
       "                         'n_estimators': [30, 40, 50, 60, 70, 80, 90, 100]},\n",
       "             verbose=2)"
      ]
     },
     "execution_count": 15,
     "metadata": {},
     "output_type": "execute_result"
    }
   ],
   "source": [
    "%timeit\n",
    "rfc = RandomForestRegressor(random_state=42)\n",
    "from sklearn.model_selection import GridSearchCV\n",
    "rf_Grid = GridSearchCV(estimator = rfc, param_grid=param_grid, cv=10, verbose=2, n_jobs=4)\n",
    "rf_Grid.fit(X_train,y_train)"
   ]
  },
  {
   "cell_type": "code",
   "execution_count": 16,
   "metadata": {},
   "outputs": [
    {
     "data": {
      "text/plain": [
       "{'bootstrap': True, 'n_estimators': 100}"
      ]
     },
     "execution_count": 16,
     "metadata": {},
     "output_type": "execute_result"
    }
   ],
   "source": [
    "rf_Grid.best_params_"
   ]
  },
  {
   "cell_type": "code",
   "execution_count": 18,
   "metadata": {},
   "outputs": [
    {
     "name": "stdout",
     "output_type": "stream",
     "text": [
      "0.9844847402912628\n",
      "0.9040598586819906\n"
     ]
    }
   ],
   "source": [
    "rfr = RandomForestRegressor(max_depth=None,\n",
    "                            min_samples_split=2, \n",
    "                            min_samples_leaf=1,\n",
    "                            n_estimators=100,\n",
    "                            max_features='sqrt', \n",
    "                            random_state=42)\n",
    "rfr.fit(X_train, y_train)\n",
    "print(rfr.score(X_train, y_train))\n",
    "print(rfr.score(X_test, y_test))"
   ]
  },
  {
   "cell_type": "code",
   "execution_count": 26,
   "metadata": {},
   "outputs": [
    {
     "name": "stdout",
     "output_type": "stream",
     "text": [
      "0.9834122985666877\n",
      "0.9012121672141873\n"
     ]
    }
   ],
   "source": [
    "rfr = RandomForestRegressor(max_features='sqrt', random_state=42)\n",
    "rfr.fit(X_train, y_train)\n",
    "print(rfr.score(X_train, y_train))\n",
    "print(rfr.score(X_test, y_test))"
   ]
  },
  {
   "cell_type": "code",
   "execution_count": 19,
   "metadata": {},
   "outputs": [
    {
     "name": "stdout",
     "output_type": "stream",
     "text": [
      "0.04812049255639273\n"
     ]
    }
   ],
   "source": [
    "from sklearn.metrics import mean_squared_error\n",
    "rms = mean_squared_error(y_train, rfr.predict(X_train), squared=False)\n",
    "print(rms)"
   ]
  },
  {
   "cell_type": "code",
   "execution_count": null,
   "metadata": {},
   "outputs": [],
   "source": []
  }
 ],
 "metadata": {
  "kernelspec": {
   "display_name": "Python 3",
   "language": "python",
   "name": "python3"
  },
  "language_info": {
   "codemirror_mode": {
    "name": "ipython",
    "version": 3
   },
   "file_extension": ".py",
   "mimetype": "text/x-python",
   "name": "python",
   "nbconvert_exporter": "python",
   "pygments_lexer": "ipython3",
   "version": "3.7.9"
  }
 },
 "nbformat": 4,
 "nbformat_minor": 4
}
