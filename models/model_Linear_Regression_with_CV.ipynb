{
 "cells": [
  {
   "cell_type": "code",
   "execution_count": 1,
   "metadata": {},
   "outputs": [],
   "source": [
    "import pandas as pd\n",
    "import numpy as np"
   ]
  },
  {
   "cell_type": "code",
   "execution_count": 2,
   "metadata": {},
   "outputs": [],
   "source": [
    "import sys\n",
    "sys.path.append('../ames') # path the the directory\n",
    "import config\n",
    "from data_prep import clean, add_features, dummify"
   ]
  },
  {
   "cell_type": "code",
   "execution_count": 3,
   "metadata": {},
   "outputs": [],
   "source": [
    "from sklearn.model_selection import train_test_split\n",
    "from sklearn.linear_model import LinearRegression\n",
    "from sklearn.model_selection import KFold\n",
    "from sklearn.model_selection import cross_val_score"
   ]
  },
  {
   "cell_type": "code",
   "execution_count": 4,
   "metadata": {},
   "outputs": [],
   "source": [
    "housing = clean(config.HOUSING_CSV)\n",
    "housing = add_features(housing)"
   ]
  },
  {
   "cell_type": "code",
   "execution_count": 5,
   "metadata": {},
   "outputs": [],
   "source": [
    "chosen_variables = ['LotFrontage', 'UnusedLotSize', 'HouseAge', 'HouseAgeSq', \n",
    "                    'OverallQual', 'OverallCond', 'GrLivArea', 'TotalLivingArea',\n",
    "                   'Toilets','Showers','UpDownRatio',]\n",
    "dummy_vars = {'Neighborhood':'Nbhd','LotConfig':'LC','SaleCondition':'SC'}"
   ]
  },
  {
   "cell_type": "code",
   "execution_count": 6,
   "metadata": {},
   "outputs": [],
   "source": [
    "def lr(housing, regress_vars,dummy_dict):\n",
    "    X = housing[regress_vars].copy()\n",
    "    dummy_df = dummify(housing, dummy_dict)\n",
    "    X = pd.concat([X,dummy_df], axis=1)\n",
    "    y = np.log(housing['SalePrice'])\n",
    "    X_train, X_test, y_train, y_test = train_test_split(X, y, test_size=.2, random_state=42)\n",
    "    reg = LinearRegression()\n",
    "    folds = KFold(n_splits=10,shuffle=True, random_state=42)\n",
    "    train_scores = cross_val_score(reg, X_train, y_train, scoring=\"neg_root_mean_squared_error\", cv=folds)\n",
    "    test_scores = cross_val_score(reg, X_test, y_test, scoring=\"neg_root_mean_squared_error\", cv=folds)\n",
    "    return -np.mean(train_scores), -np.mean(test_scores)"
   ]
  },
  {
   "cell_type": "code",
   "execution_count": 7,
   "metadata": {},
   "outputs": [
    {
     "data": {
      "text/plain": [
       "(0.12654278117696172, 0.12224817497592233)"
      ]
     },
     "execution_count": 7,
     "metadata": {},
     "output_type": "execute_result"
    }
   ],
   "source": [
    "lr(housing, chosen_variables, dummy_vars)"
   ]
  },
  {
   "cell_type": "code",
   "execution_count": 8,
   "metadata": {},
   "outputs": [
    {
     "data": {
      "text/plain": [
       "(0.12067600848209145, 0.11947385826730055)"
      ]
     },
     "execution_count": 8,
     "metadata": {},
     "output_type": "execute_result"
    }
   ],
   "source": [
    "var2 = chosen_variables + ['GarageArea']\n",
    "dummy_vars['BldgType'] = 'BT'\n",
    "lr(housing,var2, dummy_vars)"
   ]
  },
  {
   "cell_type": "code",
   "execution_count": 9,
   "metadata": {},
   "outputs": [
    {
     "data": {
      "text/plain": [
       "(0.12116868461071617, 0.12138139827650041)"
      ]
     },
     "execution_count": 9,
     "metadata": {},
     "output_type": "execute_result"
    }
   ],
   "source": [
    "var3 = ['LotFrontage', 'UnusedLotSize', 'HouseAge',\n",
    "                    'OverallQual', 'OverallCond', 'GrLivArea', 'TotalLivingArea',\n",
    "                   'Toilets','Showers','UpDownRatio','GarageArea']\n",
    "lr(housing, var3, dummy_vars)"
   ]
  },
  {
   "cell_type": "code",
   "execution_count": 10,
   "metadata": {},
   "outputs": [
    {
     "data": {
      "text/plain": [
       "(0.12116868461071617, 0.12138139827650041)"
      ]
     },
     "execution_count": 10,
     "metadata": {},
     "output_type": "execute_result"
    }
   ],
   "source": [
    "var4 = ['LotFrontage', 'UnusedLotSize', 'HouseAgeSq',\n",
    "                    'OverallQual', 'OverallCond', 'GrLivArea', 'TotalLivingArea',\n",
    "                   'Toilets','Showers','UpDownRatio','GarageArea']\n",
    "lr(housing, var3, dummy_vars)"
   ]
  },
  {
   "cell_type": "code",
   "execution_count": 11,
   "metadata": {},
   "outputs": [
    {
     "data": {
      "text/plain": [
       "(0.12083476869330505, 0.11943438236192369)"
      ]
     },
     "execution_count": 11,
     "metadata": {},
     "output_type": "execute_result"
    }
   ],
   "source": [
    "dummy_vars2 = {'Neighborhood':'Nbhd','LotConfig':'LC','SaleCondition':'SC',\n",
    "             'BldgType':'BT','Electrical':'Elec'}\n",
    "lr(housing, var2, dummy_vars2)"
   ]
  },
  {
   "cell_type": "code",
   "execution_count": 12,
   "metadata": {},
   "outputs": [
    {
     "data": {
      "text/plain": [
       "(0.12079232664893247, 0.11951600651301435)"
      ]
     },
     "execution_count": 12,
     "metadata": {},
     "output_type": "execute_result"
    }
   ],
   "source": [
    "var5 = ['YearRemodAdd'] + var2\n",
    "lr(housing, var5, dummy_vars)"
   ]
  },
  {
   "cell_type": "code",
   "execution_count": 13,
   "metadata": {},
   "outputs": [
    {
     "data": {
      "text/plain": [
       "(0.11986933787062311, 0.11779731320674583)"
      ]
     },
     "execution_count": 13,
     "metadata": {},
     "output_type": "execute_result"
    }
   ],
   "source": [
    "var6 = var2 + ['HasBsmt','HasPool']\n",
    "lr(housing, var6, dummy_vars)"
   ]
  },
  {
   "cell_type": "markdown",
   "metadata": {},
   "source": [
    "# Best Results!"
   ]
  },
  {
   "cell_type": "code",
   "execution_count": 14,
   "metadata": {},
   "outputs": [
    {
     "data": {
      "text/plain": [
       "(0.119608937024965, 0.11683340919538028)"
      ]
     },
     "execution_count": 14,
     "metadata": {},
     "output_type": "execute_result"
    }
   ],
   "source": [
    "var7 = var2 + ['HasPool']\n",
    "dummy_vars7 = {'Neighborhood':'Nbhd','LotConfig':'LC','SaleCondition':'SC',\n",
    "               'BldgType':'BT','BsmtQual':'BQ'}\n",
    "lr(housing, var7, dummy_vars7)"
   ]
  },
  {
   "cell_type": "code",
   "execution_count": 15,
   "metadata": {},
   "outputs": [
    {
     "data": {
      "text/plain": [
       "(0.1264639061937633, 0.12120562170211217)"
      ]
     },
     "execution_count": 15,
     "metadata": {},
     "output_type": "execute_result"
    }
   ],
   "source": [
    "var8 = ['Fireplaces'] + var7\n",
    "var8.remove('GrLivArea')\n",
    "lr(housing, var8, dummy_vars7)"
   ]
  },
  {
   "cell_type": "markdown",
   "metadata": {},
   "source": [
    "## Additional Testing"
   ]
  },
  {
   "cell_type": "code",
   "execution_count": 16,
   "metadata": {},
   "outputs": [],
   "source": [
    "var8.remove('LotFrontage')\n",
    "var8.remove('Toilets')"
   ]
  },
  {
   "cell_type": "code",
   "execution_count": 17,
   "metadata": {},
   "outputs": [
    {
     "data": {
      "text/plain": [
       "(0.12656631468613694, 0.12115146656506329)"
      ]
     },
     "execution_count": 17,
     "metadata": {},
     "output_type": "execute_result"
    }
   ],
   "source": [
    "dummy_vars8 = dummy_vars7.copy()\n",
    "dummy_vars8['ExterQual'] = 'EQ'\n",
    "lr(housing, var8, dummy_vars8)"
   ]
  },
  {
   "cell_type": "code",
   "execution_count": 18,
   "metadata": {},
   "outputs": [],
   "source": [
    "import statsmodels.api as sm\n",
    "def ols(housing, regress_vars,dummy_dict):\n",
    "    X = housing[regress_vars].copy()\n",
    "    dummy_df = dummify(housing, dummy_dict)\n",
    "    X = pd.concat([X,dummy_df], axis=1)\n",
    "    X = sm.add_constant(X)\n",
    "    y = np.log(housing['SalePrice'])\n",
    "    X_train, X_test, y_train, y_test = train_test_split(X, y, test_size=.2, random_state=42)\n",
    "    #reg = sm.OLS(y_train, X_train)\n",
    "    reg = sm.OLS(y_train, X_train.astype(float)).fit()\n",
    "    #ans = reg.fit()\n",
    "    print(reg.summary())"
   ]
  },
  {
   "cell_type": "code",
   "execution_count": 19,
   "metadata": {},
   "outputs": [
    {
     "name": "stdout",
     "output_type": "stream",
     "text": [
      "                            OLS Regression Results                            \n",
      "==============================================================================\n",
      "Dep. Variable:              SalePrice   R-squared:                       0.900\n",
      "Model:                            OLS   Adj. R-squared:                  0.897\n",
      "Method:                 Least Squares   F-statistic:                     309.9\n",
      "Date:                Mon, 01 Mar 2021   Prob (F-statistic):               0.00\n",
      "Time:                        17:55:46   Log-Likelihood:                 1406.9\n",
      "No. Observations:                2063   AIC:                            -2696.\n",
      "Df Residuals:                    2004   BIC:                            -2363.\n",
      "Df Model:                          58                                         \n",
      "Covariance Type:            nonrobust                                         \n",
      "===================================================================================\n",
      "                      coef    std err          t      P>|t|      [0.025      0.975]\n",
      "-----------------------------------------------------------------------------------\n",
      "const               5.3596      0.022    248.405      0.000       5.317       5.402\n",
      "Fireplaces          0.0448      0.005      8.240      0.000       0.034       0.055\n",
      "UnusedLotSize    2.594e-06   3.94e-07      6.587      0.000    1.82e-06    3.37e-06\n",
      "HouseAge           -0.0061      0.001     -9.149      0.000      -0.007      -0.005\n",
      "HouseAgeSq       3.062e-05   4.97e-06      6.167      0.000    2.09e-05    4.04e-05\n",
      "OverallQual         0.0779      0.004     20.197      0.000       0.070       0.085\n",
      "OverallCond         0.0516      0.003     17.838      0.000       0.046       0.057\n",
      "TotalLivingArea     0.0002    6.8e-06     25.137      0.000       0.000       0.000\n",
      "Showers             0.0097      0.006      1.700      0.089      -0.001       0.021\n",
      "UpDownRatio         0.0255      0.008      3.375      0.001       0.011       0.040\n",
      "GarageArea          0.0002   1.81e-05     10.932      0.000       0.000       0.000\n",
      "HasPool             0.0608      0.042      1.442      0.149      -0.022       0.143\n",
      "Nbhd_Blmngtn        0.2228      0.029      7.578      0.000       0.165       0.280\n",
      "Nbhd_Blueste        0.1378      0.045      3.096      0.002       0.051       0.225\n",
      "Nbhd_BrDale         0.0889      0.030      2.942      0.003       0.030       0.148\n",
      "Nbhd_BrkSide        0.1658      0.017      9.524      0.000       0.132       0.200\n",
      "Nbhd_ClearCr        0.2642      0.023     11.550      0.000       0.219       0.309\n",
      "Nbhd_CollgCr        0.1649      0.013     12.308      0.000       0.139       0.191\n",
      "Nbhd_Crawfor        0.2992      0.017     17.459      0.000       0.266       0.333\n",
      "Nbhd_Edwards        0.1268      0.013      9.604      0.000       0.101       0.153\n",
      "Nbhd_Gilbert        0.1698      0.016     10.534      0.000       0.138       0.201\n",
      "Nbhd_Greens         0.2370      0.051      4.615      0.000       0.136       0.338\n",
      "Nbhd_GrnHill        0.7320      0.122      6.010      0.000       0.493       0.971\n",
      "Nbhd_IDOTRR         0.0665      0.020      3.322      0.001       0.027       0.106\n",
      "Nbhd_Landmrk     9.791e-16   2.28e-16      4.290      0.000    5.32e-16    1.43e-15\n",
      "Nbhd_MeadowV        0.0373      0.026      1.452      0.147      -0.013       0.088\n",
      "Nbhd_Mitchel        0.1530      0.015     10.068      0.000       0.123       0.183\n",
      "Nbhd_NAmes          0.1689      0.012     14.579      0.000       0.146       0.192\n",
      "Nbhd_NPkVill        0.1836      0.031      5.904      0.000       0.123       0.245\n",
      "Nbhd_NWAmes         0.1611      0.015     10.935      0.000       0.132       0.190\n",
      "Nbhd_NoRidge        0.2685      0.019     13.834      0.000       0.230       0.307\n",
      "Nbhd_NridgHt        0.2689      0.017     15.677      0.000       0.235       0.303\n",
      "Nbhd_OldTown        0.1000      0.016      6.381      0.000       0.069       0.131\n",
      "Nbhd_SWISU          0.1583      0.024      6.719      0.000       0.112       0.205\n",
      "Nbhd_Sawyer         0.1505      0.015     10.329      0.000       0.122       0.179\n",
      "Nbhd_SawyerW        0.1359      0.016      8.744      0.000       0.105       0.166\n",
      "Nbhd_Somerst        0.2341      0.016     15.096      0.000       0.204       0.265\n",
      "Nbhd_StoneBr        0.3231      0.025     12.926      0.000       0.274       0.372\n",
      "Nbhd_Timber         0.1750      0.022      8.112      0.000       0.133       0.217\n",
      "Nbhd_Veenker        0.1656      0.029      5.629      0.000       0.108       0.223\n",
      "LC_Corner           1.0944      0.011    103.404      0.000       1.074       1.115\n",
      "LC_CulDSac          1.0962      0.013     86.157      0.000       1.071       1.121\n",
      "LC_FR2              1.0502      0.016     66.454      0.000       1.019       1.081\n",
      "LC_FR3              1.0287      0.032     32.251      0.000       0.966       1.091\n",
      "LC_Inside           1.0902      0.009    117.823      0.000       1.072       1.108\n",
      "SC_Abnorml          0.7688      0.026     29.662      0.000       0.718       0.820\n",
      "SC_AdjLand          0.9246      0.078     11.887      0.000       0.772       1.077\n",
      "SC_Alloca           1.0504      0.077     13.580      0.000       0.899       1.202\n",
      "SC_Family           0.7951      0.034     23.046      0.000       0.727       0.863\n",
      "SC_Normal           0.9007      0.021     42.437      0.000       0.859       0.942\n",
      "SC_Partial          0.9200      0.025     36.314      0.000       0.870       0.970\n",
      "BT_1Fam             1.1376      0.009    122.924      0.000       1.119       1.156\n",
      "BT_2fmCon           1.0997      0.018     59.633      0.000       1.064       1.136\n",
      "BT_Duplex           1.0917      0.015     71.087      0.000       1.062       1.122\n",
      "BT_Twnhs            0.9808      0.017     57.355      0.000       0.947       1.014\n",
      "BT_TwnhsE           1.0498      0.012     87.209      0.000       1.026       1.073\n",
      "BQ_Ex               0.9581      0.020     47.234      0.000       0.918       0.998\n",
      "BQ_Fa               0.8804      0.020     43.062      0.000       0.840       0.921\n",
      "BQ_Gd               0.9263      0.016     56.724      0.000       0.894       0.958\n",
      "BQ_None             0.8672      0.021     40.859      0.000       0.826       0.909\n",
      "BQ_Po               0.7992      0.077     10.434      0.000       0.649       0.949\n",
      "BQ_TA               0.9283      0.016     58.170      0.000       0.897       0.960\n",
      "EQ_Ex               1.3656      0.019     70.504      0.000       1.328       1.404\n",
      "EQ_Fa               1.2949      0.022     58.103      0.000       1.251       1.339\n",
      "EQ_Gd               1.3569      0.011    126.088      0.000       1.336       1.378\n",
      "EQ_TA               1.3423      0.010    131.764      0.000       1.322       1.362\n",
      "==============================================================================\n",
      "Omnibus:                     1156.659   Durbin-Watson:                   2.016\n",
      "Prob(Omnibus):                  0.000   Jarque-Bera (JB):            46926.314\n",
      "Skew:                          -1.980   Prob(JB):                         0.00\n",
      "Kurtosis:                      26.027   Cond. No.                     1.29e+17\n",
      "==============================================================================\n",
      "\n",
      "Notes:\n",
      "[1] Standard Errors assume that the covariance matrix of the errors is correctly specified.\n",
      "[2] The smallest eigenvalue is 1.86e-23. This might indicate that there are\n",
      "strong multicollinearity problems or that the design matrix is singular.\n"
     ]
    }
   ],
   "source": [
    "ols(housing,var8, dummy_vars8)"
   ]
  },
  {
   "cell_type": "code",
   "execution_count": null,
   "metadata": {},
   "outputs": [],
   "source": []
  }
 ],
 "metadata": {
  "kernelspec": {
   "display_name": "Python 3",
   "language": "python",
   "name": "python3"
  },
  "language_info": {
   "codemirror_mode": {
    "name": "ipython",
    "version": 3
   },
   "file_extension": ".py",
   "mimetype": "text/x-python",
   "name": "python",
   "nbconvert_exporter": "python",
   "pygments_lexer": "ipython3",
   "version": "3.7.9"
  }
 },
 "nbformat": 4,
 "nbformat_minor": 4
}
