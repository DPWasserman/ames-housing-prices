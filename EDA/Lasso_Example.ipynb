{
 "cells": [
  {
   "cell_type": "code",
   "execution_count": 32,
   "metadata": {},
   "outputs": [],
   "source": [
    "import sys\n",
    "sys.path.append('../ames') # path the the directory\n",
    "\n",
    "import numpy as np\n",
    "import pandas as pd\n",
    "import statsmodels.api as sm\n",
    "from statsmodels.api import OLS\n",
    "import matplotlib.pyplot as plt\n",
    "from sklearn.linear_model import LinearRegression\n",
    "import re\n",
    "import itertools\n",
    "%matplotlib inline "
   ]
  },
  {
   "cell_type": "code",
   "execution_count": 33,
   "metadata": {},
   "outputs": [],
   "source": [
    "from sklearn.feature_selection import f_regression\n",
    "from sklearn.linear_model import LinearRegression"
   ]
  },
  {
   "cell_type": "code",
   "execution_count": 34,
   "metadata": {},
   "outputs": [],
   "source": [
    "import config\n",
    "from data_prep import clean, add_features"
   ]
  },
  {
   "cell_type": "code",
   "execution_count": 35,
   "metadata": {},
   "outputs": [],
   "source": [
    "housing_initial = clean(config.HOUSING_CSV)\n",
    "housing = housing_initial.copy()\n",
    "housing = add_features(housing)"
   ]
  },
  {
   "cell_type": "code",
   "execution_count": 37,
   "metadata": {},
   "outputs": [],
   "source": [
    "from sklearn.linear_model import Ridge, Lasso, ElasticNet, LinearRegression\n",
    "ridge = Ridge()\n",
    "lasso = Lasso()\n",
    "net   = ElasticNet()"
   ]
  },
  {
   "cell_type": "code",
   "execution_count": 38,
   "metadata": {},
   "outputs": [],
   "source": [
    "lin_reg_cols = ['Toilets','Wooddecksf','TotRmsAbvGrd','BedroomAbvGr','Showers',\n",
    "                'FirePlaces','YearBuilt','YearRemodadd',\n",
    "                'TotalBsmtSF','DecadeBuilt'\n",
    "               ]\n",
    "\n",
    "cols_to_dummy = ['Foundation','RoofStyle','SaleCondition',\n",
    "                 'Neighborhood','Electrical','HouseStyle','SaleType','MSSubClass',\n",
    "                 'LandContour','PavedDrive','GarageFinish','MSZoning'\n",
    "                ]\n",
    "\n",
    "dummy_suffix = ['Qual','Cond','Type']\n",
    "for col in housing.columns:\n",
    "    if col not in cols_to_dummy and col not in lin_reg_cols:\n",
    "        for suff in dummy_suffix:\n",
    "            #print(re.search(r'%s$'%dummy_suffix, col))\n",
    "            if re.search(r'%s$'%suff, col) is not None:\n",
    "                cols_to_dummy.append(col)\n",
    "                break"
   ]
  },
  {
   "cell_type": "code",
   "execution_count": 70,
   "metadata": {},
   "outputs": [],
   "source": [
    "ridge_df = housing.copy()\n",
    "ridge_df = housing[['Neighborhood','OverallQual','BedroomAbvGr','TotalBsmtSF','DecadeBuilt','TotRmsAbvGrd','KitchenQual']]\n",
    "prices = housing['SalePrice']\n",
    "\n",
    "dummy_cols = []\n",
    "lin_cols = []\n",
    "for col in ridge_df.columns:\n",
    "    if col in cols_to_dummy:\n",
    "        dummy_cols.append(col)\n",
    "    else:\n",
    "        lin_cols.append(col)\n",
    "\n",
    "ridge_df = ridge_df.fillna(0.0)\n",
    "ridge_df = ridge_df.filter(items=lin_cols+dummy_cols)\n",
    "if len(dummy_cols)>0:\n",
    "    ridge_df = pd.get_dummies(ridge_df,columns=dummy_cols,drop_first=True)"
   ]
  },
  {
   "cell_type": "code",
   "execution_count": 71,
   "metadata": {},
   "outputs": [],
   "source": [
    "coefs = []\n",
    "intercepts = []\n",
    "R2  = []\n",
    "alphaRange = [.0005,.0001,.01,1,5]\n",
    "for alpha in alphaRange:\n",
    "          ridge.set_params(alpha=alpha)  \n",
    "          ridge.fit(ridge_df,prices)\n",
    "          intercepts.append(ridge.intercept_)\n",
    "          coefs.append(ridge.coef_)\n",
    "          R2.append(ridge.score(ridge_df,prices)) "
   ]
  },
  {
   "cell_type": "code",
   "execution_count": 72,
   "metadata": {},
   "outputs": [
    {
     "name": "stdout",
     "output_type": "stream",
     "text": [
      "[0.836537310525765, 0.8365373129484573, 0.8365363510320291, 0.8353683629229731, 0.8315730565217787]\n"
     ]
    }
   ],
   "source": [
    "print(R2)"
   ]
  },
  {
   "cell_type": "code",
   "execution_count": 66,
   "metadata": {},
   "outputs": [
    {
     "data": {
      "text/plain": [
       "['__abstractmethods__',\n",
       " '__class__',\n",
       " '__delattr__',\n",
       " '__dict__',\n",
       " '__dir__',\n",
       " '__doc__',\n",
       " '__eq__',\n",
       " '__format__',\n",
       " '__ge__',\n",
       " '__getattribute__',\n",
       " '__getstate__',\n",
       " '__gt__',\n",
       " '__hash__',\n",
       " '__init__',\n",
       " '__init_subclass__',\n",
       " '__le__',\n",
       " '__lt__',\n",
       " '__module__',\n",
       " '__ne__',\n",
       " '__new__',\n",
       " '__reduce__',\n",
       " '__reduce_ex__',\n",
       " '__repr__',\n",
       " '__setattr__',\n",
       " '__setstate__',\n",
       " '__sizeof__',\n",
       " '__str__',\n",
       " '__subclasshook__',\n",
       " '__weakref__',\n",
       " '_abc_impl',\n",
       " '_check_n_features',\n",
       " '_decision_function',\n",
       " '_estimator_type',\n",
       " '_get_param_names',\n",
       " '_get_tags',\n",
       " '_more_tags',\n",
       " '_preprocess_data',\n",
       " '_repr_html_',\n",
       " '_repr_html_inner',\n",
       " '_repr_mimebundle_',\n",
       " '_set_intercept',\n",
       " '_validate_data',\n",
       " 'alpha',\n",
       " 'coef_',\n",
       " 'copy_X',\n",
       " 'fit',\n",
       " 'fit_intercept',\n",
       " 'get_params',\n",
       " 'intercept_',\n",
       " 'max_iter',\n",
       " 'n_features_in_',\n",
       " 'n_iter_',\n",
       " 'normalize',\n",
       " 'predict',\n",
       " 'random_state',\n",
       " 'score',\n",
       " 'set_params',\n",
       " 'solver',\n",
       " 'tol']"
      ]
     },
     "execution_count": 66,
     "metadata": {},
     "output_type": "execute_result"
    }
   ],
   "source": [
    "dir(ridge)"
   ]
  },
  {
   "cell_type": "code",
   "execution_count": null,
   "metadata": {},
   "outputs": [],
   "source": []
  }
 ],
 "metadata": {
  "kernelspec": {
   "display_name": "Python 3",
   "language": "python",
   "name": "python3"
  },
  "language_info": {
   "codemirror_mode": {
    "name": "ipython",
    "version": 3
   },
   "file_extension": ".py",
   "mimetype": "text/x-python",
   "name": "python",
   "nbconvert_exporter": "python",
   "pygments_lexer": "ipython3",
   "version": "3.8.5"
  }
 },
 "nbformat": 4,
 "nbformat_minor": 4
}
