{
 "cells": [
  {
   "cell_type": "code",
   "execution_count": 1,
   "metadata": {},
   "outputs": [],
   "source": [
    "import sys\n",
    "sys.path.append('../ames') # path the the directory\n",
    "\n",
    "import numpy as np\n",
    "import pandas as pd\n",
    "import statsmodels.api as sm\n",
    "from statsmodels.api import OLS\n",
    "import matplotlib.pyplot as plt\n",
    "from sklearn.linear_model import LinearRegression\n",
    "import re\n",
    "import itertools\n",
    "%matplotlib inline "
   ]
  },
  {
   "cell_type": "code",
   "execution_count": 2,
   "metadata": {},
   "outputs": [],
   "source": [
    "from sklearn.feature_selection import f_regression\n",
    "from sklearn.linear_model import LinearRegression"
   ]
  },
  {
   "cell_type": "code",
   "execution_count": 3,
   "metadata": {},
   "outputs": [],
   "source": [
    "import config\n",
    "from data_prep import clean, add_features"
   ]
  },
  {
   "cell_type": "code",
   "execution_count": 4,
   "metadata": {},
   "outputs": [],
   "source": [
    "housing_initial = clean(config.HOUSING_CSV)\n",
    "housing = housing_initial.copy()\n",
    "housing = add_features(housing)"
   ]
  },
  {
   "cell_type": "code",
   "execution_count": 5,
   "metadata": {},
   "outputs": [],
   "source": [
    "from sklearn.linear_model import Ridge, Lasso, ElasticNet, LinearRegression\n",
    "ridge = Ridge()\n",
    "lasso = Lasso()\n",
    "net   = ElasticNet()"
   ]
  },
  {
   "cell_type": "code",
   "execution_count": 11,
   "metadata": {},
   "outputs": [],
   "source": [
    "lin_reg_cols = ['Toilets','WoodDeckSF','TotRmsAbvGrd','BedroomAbvGr','Showers',\n",
    "                'FirePlaces','YearBuilt','YearRemodAdd',\n",
    "                'TotalBsmtSF','DecadeBuilt'\n",
    "               ]\n",
    "\n",
    "cols_to_dummy = ['Foundation','RoofStyle','SaleCondition',\n",
    "                 'Neighborhood','Electrical','HouseStyle','SaleType','MSSubClass',\n",
    "                 'LandContour','PavedDrive','GarageFinish','MSZoning'\n",
    "                ]\n",
    "\n",
    "dummy_suffix = ['Qual','Cond','Type']\n",
    "for col in housing.columns:\n",
    "    if col not in cols_to_dummy and col not in lin_reg_cols:\n",
    "        for suff in dummy_suffix:\n",
    "            #print(re.search(r'%s$'%dummy_suffix, col))\n",
    "            if re.search(r'%s$'%suff, col) is not None:\n",
    "                cols_to_dummy.append(col)\n",
    "                break"
   ]
  },
  {
   "cell_type": "code",
   "execution_count": 12,
   "metadata": {},
   "outputs": [],
   "source": [
    "ridge_df = housing.copy()\n",
    "ridge_df = housing[['Neighborhood','OverallQual','BedroomAbvGr','TotalBsmtSF','DecadeBuilt','TotRmsAbvGrd','KitchenQual']]\n",
    "prices = housing['SalePrice']\n",
    "\n",
    "dummy_cols = []\n",
    "lin_cols = []\n",
    "for col in ridge_df.columns:\n",
    "    if col in cols_to_dummy:\n",
    "        dummy_cols.append(col)\n",
    "    else:\n",
    "        lin_cols.append(col)\n",
    "\n",
    "ridge_df = ridge_df.fillna(0.0)\n",
    "ridge_df = ridge_df.filter(items=lin_cols+dummy_cols)\n",
    "if len(dummy_cols)>0:\n",
    "    ridge_df = pd.get_dummies(ridge_df,columns=dummy_cols,drop_first=True)"
   ]
  },
  {
   "cell_type": "code",
   "execution_count": 13,
   "metadata": {},
   "outputs": [],
   "source": [
    "coefs = []\n",
    "intercepts = []\n",
    "R2  = []\n",
    "alphaRange = [.0005,.0001,.01,1,5]\n",
    "for alpha in alphaRange:\n",
    "    ridge.set_params(alpha=alpha)  \n",
    "    ridge.fit(ridge_df,prices)\n",
    "    intercepts.append(ridge.intercept_)\n",
    "    coefs.append(ridge.coef_)\n",
    "    R2.append(ridge.score(ridge_df,prices)) "
   ]
  },
  {
   "cell_type": "code",
   "execution_count": 14,
   "metadata": {},
   "outputs": [
    {
     "name": "stdout",
     "output_type": "stream",
     "text": [
      "[0.836537310525765, 0.8365373129484573, 0.8365363510320292, 0.8353683629229732, 0.8315730565217787]\n"
     ]
    }
   ],
   "source": [
    "print(R2)"
   ]
  },
  {
   "cell_type": "code",
   "execution_count": null,
   "metadata": {},
   "outputs": [],
   "source": []
  },
  {
   "cell_type": "code",
   "execution_count": null,
   "metadata": {},
   "outputs": [],
   "source": []
  }
 ],
 "metadata": {
  "kernelspec": {
   "display_name": "Python 3",
   "language": "python",
   "name": "python3"
  },
  "language_info": {
   "codemirror_mode": {
    "name": "ipython",
    "version": 3
   },
   "file_extension": ".py",
   "mimetype": "text/x-python",
   "name": "python",
   "nbconvert_exporter": "python",
   "pygments_lexer": "ipython3",
   "version": "3.7.9"
  }
 },
 "nbformat": 4,
 "nbformat_minor": 4
}
