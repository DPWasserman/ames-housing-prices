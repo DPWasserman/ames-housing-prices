{
 "cells": [
  {
   "cell_type": "markdown",
   "metadata": {},
   "source": [
    "### https://machinelearningmastery.com/feature-importance-and-feature-selection-with-xgboost-in-python/"
   ]
  },
  {
   "cell_type": "code",
   "execution_count": 1,
   "metadata": {},
   "outputs": [],
   "source": [
    "import pandas as pd\n",
    "import numpy as np\n",
    "from pathlib import Path"
   ]
  },
  {
   "cell_type": "code",
   "execution_count": 2,
   "metadata": {},
   "outputs": [],
   "source": [
    "import sys\n",
    "sys.path.append('../ames') # path the the directory\n",
    "import config\n",
    "from data_prep import clean, add_features, dummify"
   ]
  },
  {
   "cell_type": "code",
   "execution_count": 3,
   "metadata": {},
   "outputs": [],
   "source": [
    "housing = clean(config.HOUSING_CSV)\n",
    "housing = add_features(housing)\n",
    "housing = pd.read_pickle(config.HOUSING_PICKLE)"
   ]
  },
  {
   "cell_type": "code",
   "execution_count": 4,
   "metadata": {},
   "outputs": [],
   "source": [
    "the_chosen_variables = ['1stFlrSF','2ndFlrSF', '3SsnPorch', 'BedroomAbvGr', \n",
    "             'BsmtFinSF1', 'BsmtFinSF2', 'BsmtFullBath', 'BsmtHalfBath', \n",
    "             'BsmtUnfSF', 'EnclosedPorch', 'Fireplaces', 'FullBath', \n",
    "             'GarageArea', 'GarageCars', 'GarageYrBlt', 'GrLivArea', \n",
    "             'HalfBath', 'KitchenAbvGr', 'LotArea', 'LotFrontage', \n",
    "             'LowQualFinSF', 'MasVnrArea', 'MiscVal', 'MoSold', 'MSSubClass', \n",
    "             'OpenPorchSF', 'OverallCond', 'OverallQual', 'PoolArea', \n",
    "             'ScreenPorch', 'TotalBsmtSF', 'TotRmsAbvGrd', 'WoodDeckSF', \n",
    "             'YearBuilt', 'YearRemodAdd', 'YrSold','DecadeBuilt', 'DecadeRemodel',\n",
    "             'TotalLivingArea','UnusedLotSize','HasPool','HouseAge', 'HouseAgeSq']"
   ]
  },
  {
   "cell_type": "code",
   "execution_count": 5,
   "metadata": {},
   "outputs": [],
   "source": [
    "the_chosen_variables.remove('LotArea')\n",
    "the_chosen_variables.remove('GrLivArea')\n",
    "the_chosen_variables.remove('GarageArea')"
   ]
  },
  {
   "cell_type": "code",
   "execution_count": 6,
   "metadata": {},
   "outputs": [],
   "source": [
    "limited_variables = ['TotalLivingArea','UnusedLotSize','HasPool','OverallQual','GarageArea','YearBuilt']\n",
    "X = housing[the_chosen_variables]\n",
    "\n",
    "dummy_vars = {'Neighborhood':'Nbhd','LotConfig':'LC','SaleCondition':'SC'}\n",
    "dummy_df = dummify(housing, dummy_vars)\n",
    "X = pd.concat([X,dummy_df], axis=1)\n",
    "y = housing['SalePrice']"
   ]
  },
  {
   "cell_type": "code",
   "execution_count": 7,
   "metadata": {},
   "outputs": [],
   "source": [
    "from sklearn.model_selection import train_test_split\n",
    "X_train, X_test, y_train, y_test = train_test_split(X,y, test_size=0.2, random_state=42)"
   ]
  },
  {
   "cell_type": "code",
   "execution_count": 8,
   "metadata": {
    "scrolled": true
   },
   "outputs": [
    {
     "name": "stdout",
     "output_type": "stream",
     "text": [
      "[3.6672717e-03 5.5561680e-03 1.0580587e-03 1.2046393e-03 1.2113308e-03\n",
      " 1.7959556e-03 9.9700748e-04 5.6999695e-04 2.3557001e-03 1.8622107e-03\n",
      " 1.3401385e-02 1.6057391e-02 3.8200710e-02 4.9963170e-03 7.9337014e-03\n",
      " 3.9830725e-03 1.5775708e-03 8.9210185e-04 2.9216588e-03 6.3850702e-04\n",
      " 1.3077194e-03 8.6160367e-03 2.2553301e-03 1.0714569e-02 5.7445973e-01\n",
      " 1.4839628e-04 4.8922012e-03 4.9831769e-03 1.7392290e-03 1.9232439e-03\n",
      " 4.1245613e-02 5.9536481e-03 9.2634506e-04 0.0000000e+00 0.0000000e+00\n",
      " 1.3043189e-01 3.6156699e-03 0.0000000e+00 0.0000000e+00 0.0000000e+00\n",
      " 0.0000000e+00 9.0970767e-05 0.0000000e+00 3.7842928e-03 2.1399250e-03\n",
      " 1.2727376e-03 1.0731718e-02 2.5306034e-03 8.9234853e-04 0.0000000e+00\n",
      " 1.4825455e-03 2.5120517e-03 0.0000000e+00 1.9833879e-03 5.1934033e-04\n",
      " 1.4871289e-03 1.4247429e-04 1.1793915e-03 1.3917021e-03 8.0041413e-04\n",
      " 2.7890746e-03 5.2321097e-04 5.5684815e-03 2.0553279e-03 7.2752479e-03\n",
      " 5.3285472e-03 2.5309939e-03 4.3710094e-04 6.5395242e-04 2.3817648e-03\n",
      " 2.4766249e-03 1.0590663e-02 7.8569399e-04 2.3640562e-03 0.0000000e+00\n",
      " 0.0000000e+00 8.1427405e-03 3.2755022e-03 5.7863938e-03]\n"
     ]
    }
   ],
   "source": [
    "from xgboost import XGBRegressor\n",
    "from matplotlib import pyplot\n",
    "# fit model\n",
    "model = XGBRegressor(random_state=42)\n",
    "model.fit(X_train, y_train)\n",
    "# feature importance\n",
    "print(model.feature_importances_)"
   ]
  },
  {
   "cell_type": "code",
   "execution_count": 9,
   "metadata": {},
   "outputs": [
    {
     "data": {
      "image/png": "[encoded data removed]",
      "text/plain": [
       "<Figure size 432x288 with 1 Axes>"
      ]
     },
     "metadata": {
      "needs_background": "light"
     },
     "output_type": "display_data"
    }
   ],
   "source": [
    "# plot\n",
    "pyplot.bar(range(len(model.feature_importances_)), sorted(model.feature_importances_))\n",
    "pyplot.show()"
   ]
  },
  {
   "cell_type": "code",
   "execution_count": 10,
   "metadata": {},
   "outputs": [
    {
     "name": "stdout",
     "output_type": "stream",
     "text": [
      "22931.5891039567\n"
     ]
    }
   ],
   "source": [
    "from sklearn.metrics import mean_squared_error\n",
    "rms = mean_squared_error(y_test, model.predict(X_test), squared=False)\n",
    "print(rms)"
   ]
  },
  {
   "cell_type": "markdown",
   "metadata": {},
   "source": [
    "## Feature Importance"
   ]
  },
  {
   "cell_type": "code",
   "execution_count": 11,
   "metadata": {},
   "outputs": [
    {
     "data": {
      "text/html": [
       "<div>\n",
       "<style scoped>\n",
       "    .dataframe tbody tr th:only-of-type {\n",
       "        vertical-align: middle;\n",
       "    }\n",
       "\n",
       "    .dataframe tbody tr th {\n",
       "        vertical-align: top;\n",
       "    }\n",
       "\n",
       "    .dataframe thead th {\n",
       "        text-align: right;\n",
       "    }\n",
       "</style>\n",
       "<table border=\"1\" class=\"dataframe\">\n",
       "  <thead>\n",
       "    <tr style=\"text-align: right;\">\n",
       "      <th></th>\n",
       "      <th>Importance</th>\n",
       "    </tr>\n",
       "  </thead>\n",
       "  <tbody>\n",
       "    <tr>\n",
       "      <th>OverallQual</th>\n",
       "      <td>0.574460</td>\n",
       "    </tr>\n",
       "    <tr>\n",
       "      <th>TotalLivingArea</th>\n",
       "      <td>0.130432</td>\n",
       "    </tr>\n",
       "    <tr>\n",
       "      <th>YearBuilt</th>\n",
       "      <td>0.041246</td>\n",
       "    </tr>\n",
       "    <tr>\n",
       "      <th>GarageCars</th>\n",
       "      <td>0.038201</td>\n",
       "    </tr>\n",
       "    <tr>\n",
       "      <th>FullBath</th>\n",
       "      <td>0.016057</td>\n",
       "    </tr>\n",
       "    <tr>\n",
       "      <th>Fireplaces</th>\n",
       "      <td>0.013401</td>\n",
       "    </tr>\n",
       "    <tr>\n",
       "      <th>Nbhd_Crawfor</th>\n",
       "      <td>0.010732</td>\n",
       "    </tr>\n",
       "    <tr>\n",
       "      <th>OverallCond</th>\n",
       "      <td>0.010715</td>\n",
       "    </tr>\n",
       "    <tr>\n",
       "      <th>LC_FR3</th>\n",
       "      <td>0.010591</td>\n",
       "    </tr>\n",
       "    <tr>\n",
       "      <th>MSSubClass</th>\n",
       "      <td>0.008616</td>\n",
       "    </tr>\n",
       "    <tr>\n",
       "      <th>SC_Family</th>\n",
       "      <td>0.008143</td>\n",
       "    </tr>\n",
       "    <tr>\n",
       "      <th>HalfBath</th>\n",
       "      <td>0.007934</td>\n",
       "    </tr>\n",
       "    <tr>\n",
       "      <th>Nbhd_Somerst</th>\n",
       "      <td>0.007275</td>\n",
       "    </tr>\n",
       "    <tr>\n",
       "      <th>YearRemodAdd</th>\n",
       "      <td>0.005954</td>\n",
       "    </tr>\n",
       "    <tr>\n",
       "      <th>SC_Partial</th>\n",
       "      <td>0.005786</td>\n",
       "    </tr>\n",
       "    <tr>\n",
       "      <th>Nbhd_Sawyer</th>\n",
       "      <td>0.005568</td>\n",
       "    </tr>\n",
       "    <tr>\n",
       "      <th>2ndFlrSF</th>\n",
       "      <td>0.005556</td>\n",
       "    </tr>\n",
       "    <tr>\n",
       "      <th>Nbhd_StoneBr</th>\n",
       "      <td>0.005329</td>\n",
       "    </tr>\n",
       "    <tr>\n",
       "      <th>GarageYrBlt</th>\n",
       "      <td>0.004996</td>\n",
       "    </tr>\n",
       "    <tr>\n",
       "      <th>TotalBsmtSF</th>\n",
       "      <td>0.004983</td>\n",
       "    </tr>\n",
       "    <tr>\n",
       "      <th>ScreenPorch</th>\n",
       "      <td>0.004892</td>\n",
       "    </tr>\n",
       "    <tr>\n",
       "      <th>KitchenAbvGr</th>\n",
       "      <td>0.003983</td>\n",
       "    </tr>\n",
       "    <tr>\n",
       "      <th>Nbhd_BrkSide</th>\n",
       "      <td>0.003784</td>\n",
       "    </tr>\n",
       "    <tr>\n",
       "      <th>1stFlrSF</th>\n",
       "      <td>0.003667</td>\n",
       "    </tr>\n",
       "    <tr>\n",
       "      <th>UnusedLotSize</th>\n",
       "      <td>0.003616</td>\n",
       "    </tr>\n",
       "  </tbody>\n",
       "</table>\n",
       "</div>"
      ],
      "text/plain": [
       "                 Importance\n",
       "OverallQual        0.574460\n",
       "TotalLivingArea    0.130432\n",
       "YearBuilt          0.041246\n",
       "GarageCars         0.038201\n",
       "FullBath           0.016057\n",
       "Fireplaces         0.013401\n",
       "Nbhd_Crawfor       0.010732\n",
       "OverallCond        0.010715\n",
       "LC_FR3             0.010591\n",
       "MSSubClass         0.008616\n",
       "SC_Family          0.008143\n",
       "HalfBath           0.007934\n",
       "Nbhd_Somerst       0.007275\n",
       "YearRemodAdd       0.005954\n",
       "SC_Partial         0.005786\n",
       "Nbhd_Sawyer        0.005568\n",
       "2ndFlrSF           0.005556\n",
       "Nbhd_StoneBr       0.005329\n",
       "GarageYrBlt        0.004996\n",
       "TotalBsmtSF        0.004983\n",
       "ScreenPorch        0.004892\n",
       "KitchenAbvGr       0.003983\n",
       "Nbhd_BrkSide       0.003784\n",
       "1stFlrSF           0.003667\n",
       "UnusedLotSize      0.003616"
      ]
     },
     "execution_count": 11,
     "metadata": {},
     "output_type": "execute_result"
    }
   ],
   "source": [
    "d = pd.DataFrame(model.feature_importances_,index=X.columns,columns=['Importance'])\n",
    "d.sort_values('Importance',ascending=False).head(25)"
   ]
  },
  {
   "cell_type": "code",
   "execution_count": null,
   "metadata": {},
   "outputs": [],
   "source": []
  }
 ],
 "metadata": {
  "kernelspec": {
   "display_name": "Python 3",
   "language": "python",
   "name": "python3"
  },
  "language_info": {
   "codemirror_mode": {
    "name": "ipython",
    "version": 3
   },
   "file_extension": ".py",
   "mimetype": "text/x-python",
   "name": "python",
   "nbconvert_exporter": "python",
   "pygments_lexer": "ipython3",
   "version": "3.7.9"
  }
 },
 "nbformat": 4,
 "nbformat_minor": 4
}
