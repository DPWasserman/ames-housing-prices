{
 "cells": [
  {
   "cell_type": "code",
   "execution_count": 1,
   "metadata": {},
   "outputs": [],
   "source": [
    "import sys\n",
    "sys.path.append('../ames') # path the the directory\n",
    "\n",
    "import numpy as np\n",
    "import pandas as pd\n",
    "import statsmodels.api as sm\n",
    "from statsmodels.api import OLS\n",
    "import matplotlib.pyplot as plt\n",
    "from sklearn.linear_model import LinearRegression\n",
    "from sklearn.model_selection import train_test_split\n",
    "import re\n",
    "import itertools\n",
    "import statistics\n",
    "%matplotlib inline "
   ]
  },
  {
   "cell_type": "code",
   "execution_count": 2,
   "metadata": {},
   "outputs": [],
   "source": [
    "from sklearn.feature_selection import f_regression\n",
    "from sklearn.linear_model import LinearRegression"
   ]
  },
  {
   "cell_type": "code",
   "execution_count": 3,
   "metadata": {},
   "outputs": [],
   "source": [
    "import config\n",
    "from data_prep import clean, add_features"
   ]
  },
  {
   "cell_type": "code",
   "execution_count": 4,
   "metadata": {},
   "outputs": [],
   "source": [
    "housing_initial = clean(config.HOUSING_CSV)\n",
    "housing = housing_initial.copy()\n",
    "housing = add_features(housing)"
   ]
  },
  {
   "cell_type": "code",
   "execution_count": 5,
   "metadata": {},
   "outputs": [],
   "source": [
    "lin_reg_cols = ['Toilets','WoodDeckSF','TotRmsAbvGrd','BedroomAbvGr','Showers',\n",
    "                'FirePlaces','YearBuilt','YearRemodAdd',\n",
    "                'TotalBsmtSF','DecadeBuilt'\n",
    "               ]\n",
    "\n",
    "cols_to_dummy = ['Foundation','RoofStyle','SaleCondition',\n",
    "                 'Neighborhood','Electrical','HouseStyle','SaleType','MSSubClass',\n",
    "                 'LandContour','PavedDrive','GarageFinish','MSZoning'\n",
    "                ]\n",
    "\n",
    "dummy_suffix = ['Qual','Cond','Type']\n",
    "for col in housing.columns:\n",
    "    if col not in cols_to_dummy and col not in lin_reg_cols:\n",
    "        for suff in dummy_suffix:\n",
    "            #print(re.search(r'%s$'%dummy_suffix, col))\n",
    "            if re.search(r'%s$'%suff, col) is not None:\n",
    "                cols_to_dummy.append(col)\n",
    "                break"
   ]
  },
  {
   "cell_type": "code",
   "execution_count": 6,
   "metadata": {},
   "outputs": [],
   "source": [
    "def get_mll_vals(temp_df,sale_prices):\n",
    "    lm = LinearRegression()\n",
    "    lm.fit(temp_df, sale_prices)\n",
    "\n",
    "    r2 = lm.score(temp_df, sale_prices)\n",
    "    residuals = sale_prices - lm.predict(temp_df)\n",
    "    rss = np.sum((residuals)**2)\n",
    "\n",
    "    coef = lm.coef_\n",
    "    intercept = lm.intercept_\n",
    "    prfx_vals = {'r^2':r2,\n",
    "                 #'coef':coef,\n",
    "                 #'intercept':intercept,\n",
    "                 'rss':rss\n",
    "                }\n",
    "    return prfx_vals"
   ]
  },
  {
   "cell_type": "code",
   "execution_count": 19,
   "metadata": {},
   "outputs": [],
   "source": [
    "def do_multiple_lin(data_frame,all_cols):\n",
    "    \n",
    "    dummy_cols = []\n",
    "    lin_cols = []\n",
    "    for col in all_cols:\n",
    "        if col in cols_to_dummy:\n",
    "            dummy_cols.append(col)\n",
    "        else:\n",
    "            lin_cols.append(col)\n",
    "            \n",
    "    data_frame = data_frame.fillna(0.0)\n",
    "    data_frame = data_frame.filter(items=lin_cols+dummy_cols+['SalePrice'])\n",
    "    if len(dummy_cols)>0:\n",
    "        data_frame = pd.get_dummies(data_frame,columns=dummy_cols,drop_first=True)\n",
    "\n",
    "    sale_prices = data_frame['SalePrice']\n",
    "\n",
    "    del data_frame['SalePrice']\n",
    "    name = '_'.join(all_cols)\n",
    "    \n",
    "    output = get_mll_vals(data_frame,sale_prices)\n",
    "    return (name,output['r^2'])"
   ]
  },
  {
   "cell_type": "code",
   "execution_count": 23,
   "metadata": {},
   "outputs": [],
   "source": [
    "# num_variables = 3\n",
    "# combos = list(itertools.combinations(lin_reg_cols+cols_to_dummy, num_variables))\n",
    "combos = [('Toilets', 'WoodDeckSF', 'TotRmsAbvGrd'),('WoodDeckSF', 'FirePlaces', 'MSZoning')]"
   ]
  },
  {
   "cell_type": "code",
   "execution_count": 24,
   "metadata": {},
   "outputs": [],
   "source": [
    "count = 1\n",
    "values_dict = {}\n",
    "\n",
    "for combo in combos:\n",
    "    output = do_multiple_lin(housing,combo)\n",
    "    values_dict[output[0]] = output[1]\n",
    "    if count % 1000 == 0:\n",
    "        print(count)\n",
    "    count+=1"
   ]
  },
  {
   "cell_type": "code",
   "execution_count": 25,
   "metadata": {},
   "outputs": [],
   "source": [
    "reg_vals_df = pd.DataFrame({'Attribute':values_dict.keys(),'R-Squared':values_dict.values()})\n",
    "\n",
    "reg_vals_df = reg_vals_df.sort_values('R-Squared',ascending=False)\n",
    "reg_vals_df.to_csv('test.csv',index=False)"
   ]
  },
  {
   "cell_type": "code",
   "execution_count": 27,
   "metadata": {},
   "outputs": [
    {
     "ename": "NameError",
     "evalue": "name 'lin_reg_vals' is not defined",
     "output_type": "error",
     "traceback": [
      "\u001b[0;31m---------------------------------------------------------------------------\u001b[0m",
      "\u001b[0;31mNameError\u001b[0m                                 Traceback (most recent call last)",
      "\u001b[0;32m<ipython-input-27-22ac6b962288>\u001b[0m in \u001b[0;36m<module>\u001b[0;34m\u001b[0m\n\u001b[0;32m----> 1\u001b[0;31m \u001b[0mlin_reg_vals\u001b[0m\u001b[0;34m\u001b[0m\u001b[0;34m\u001b[0m\u001b[0m\n\u001b[0m",
      "\u001b[0;31mNameError\u001b[0m: name 'lin_reg_vals' is not defined"
     ]
    }
   ],
   "source": [
    "lin_reg_vals"
   ]
  },
  {
   "cell_type": "code",
   "execution_count": null,
   "metadata": {},
   "outputs": [],
   "source": []
  },
  {
   "cell_type": "code",
   "execution_count": 30,
   "metadata": {},
   "outputs": [],
   "source": [
    "features = sm.add_constant(housing[['SalePrice']])\n",
    "lin_reg_vals = {}\n",
    "\n",
    "for col in lin_reg_cols:\n",
    "    try:\n",
    "        housing[col] = housing[col].fillna(0.0)\n",
    "        ols_sm  = OLS(housing[col], features)\n",
    "        model = ols_sm.fit()\n",
    "        lin_reg_vals[col] = model.rsquared\n",
    "    except:\n",
    "        pass\n",
    "    \n",
    "lin_reg_vals = dict(sorted(lin_reg_vals.items(), key=lambda item: item[1],reverse=True))"
   ]
  },
  {
   "cell_type": "code",
   "execution_count": null,
   "metadata": {},
   "outputs": [],
   "source": []
  },
  {
   "cell_type": "code",
   "execution_count": 32,
   "metadata": {},
   "outputs": [],
   "source": [
    "lin_reg_df = pd.DataFrame({'Attribute':lin_reg_vals.keys(),'R-Squared':lin_reg_vals.values()})\n",
    "\n",
    "lin_reg_df.to_csv('rsquared_lin.csv',index=False)"
   ]
  },
  {
   "cell_type": "code",
   "execution_count": 33,
   "metadata": {},
   "outputs": [
    {
     "data": {
      "text/html": [
       "<div>\n",
       "<style scoped>\n",
       "    .dataframe tbody tr th:only-of-type {\n",
       "        vertical-align: middle;\n",
       "    }\n",
       "\n",
       "    .dataframe tbody tr th {\n",
       "        vertical-align: top;\n",
       "    }\n",
       "\n",
       "    .dataframe thead th {\n",
       "        text-align: right;\n",
       "    }\n",
       "</style>\n",
       "<table border=\"1\" class=\"dataframe\">\n",
       "  <thead>\n",
       "    <tr style=\"text-align: right;\">\n",
       "      <th></th>\n",
       "      <th>Attribute</th>\n",
       "      <th>R-Squared</th>\n",
       "    </tr>\n",
       "  </thead>\n",
       "  <tbody>\n",
       "    <tr>\n",
       "      <th>0</th>\n",
       "      <td>TotalBsmtSF</td>\n",
       "      <td>0.425808</td>\n",
       "    </tr>\n",
       "    <tr>\n",
       "      <th>1</th>\n",
       "      <td>Toilets</td>\n",
       "      <td>0.386412</td>\n",
       "    </tr>\n",
       "    <tr>\n",
       "      <th>2</th>\n",
       "      <td>Showers</td>\n",
       "      <td>0.354436</td>\n",
       "    </tr>\n",
       "    <tr>\n",
       "      <th>3</th>\n",
       "      <td>YearBuilt</td>\n",
       "      <td>0.296555</td>\n",
       "    </tr>\n",
       "    <tr>\n",
       "      <th>4</th>\n",
       "      <td>DecadeBuilt</td>\n",
       "      <td>0.291450</td>\n",
       "    </tr>\n",
       "    <tr>\n",
       "      <th>5</th>\n",
       "      <td>YearRemodAdd</td>\n",
       "      <td>0.264937</td>\n",
       "    </tr>\n",
       "    <tr>\n",
       "      <th>6</th>\n",
       "      <td>TotRmsAbvGrd</td>\n",
       "      <td>0.240302</td>\n",
       "    </tr>\n",
       "    <tr>\n",
       "      <th>7</th>\n",
       "      <td>WoodDeckSF</td>\n",
       "      <td>0.111110</td>\n",
       "    </tr>\n",
       "    <tr>\n",
       "      <th>8</th>\n",
       "      <td>BedroomAbvGr</td>\n",
       "      <td>0.023081</td>\n",
       "    </tr>\n",
       "  </tbody>\n",
       "</table>\n",
       "</div>"
      ],
      "text/plain": [
       "      Attribute  R-Squared\n",
       "0   TotalBsmtSF   0.425808\n",
       "1       Toilets   0.386412\n",
       "2       Showers   0.354436\n",
       "3     YearBuilt   0.296555\n",
       "4   DecadeBuilt   0.291450\n",
       "5  YearRemodAdd   0.264937\n",
       "6  TotRmsAbvGrd   0.240302\n",
       "7    WoodDeckSF   0.111110\n",
       "8  BedroomAbvGr   0.023081"
      ]
     },
     "execution_count": 33,
     "metadata": {},
     "output_type": "execute_result"
    }
   ],
   "source": [
    "lin_reg_df"
   ]
  },
  {
   "cell_type": "code",
   "execution_count": null,
   "metadata": {},
   "outputs": [],
   "source": []
  }
 ],
 "metadata": {
  "kernelspec": {
   "display_name": "Python 3",
   "language": "python",
   "name": "python3"
  },
  "language_info": {
   "codemirror_mode": {
    "name": "ipython",
    "version": 3
   },
   "file_extension": ".py",
   "mimetype": "text/x-python",
   "name": "python",
   "nbconvert_exporter": "python",
   "pygments_lexer": "ipython3",
   "version": "3.8.5"
  }
 },
 "nbformat": 4,
 "nbformat_minor": 4
}
