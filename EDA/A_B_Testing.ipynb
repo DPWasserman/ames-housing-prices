{
 "cells": [
  {
   "cell_type": "code",
   "execution_count": 18,
   "metadata": {},
   "outputs": [],
   "source": [
    "import sys\n",
    "sys.path.append('../ames') # path the the directory\n",
    "\n",
    "import numpy as np\n",
    "import pandas as pd\n",
    "import statsmodels.api as sm\n",
    "from statsmodels.api import OLS\n",
    "import matplotlib.pyplot as plt\n",
    "from sklearn.linear_model import LinearRegression\n",
    "import re\n",
    "import itertools\n",
    "import statistics\n",
    "%matplotlib inline "
   ]
  },
  {
   "cell_type": "code",
   "execution_count": 19,
   "metadata": {},
   "outputs": [],
   "source": [
    "from sklearn.feature_selection import f_regression\n",
    "from sklearn.linear_model import LinearRegression"
   ]
  },
  {
   "cell_type": "code",
   "execution_count": 20,
   "metadata": {},
   "outputs": [],
   "source": [
    "import config\n",
    "from data_prep import clean, add_features"
   ]
  },
  {
   "cell_type": "code",
   "execution_count": 21,
   "metadata": {},
   "outputs": [],
   "source": [
    "housing_initial = clean(config.HOUSING_CSV)\n",
    "housing = housing_initial.copy()\n",
    "housing = add_features(housing)"
   ]
  },
  {
   "cell_type": "code",
   "execution_count": 22,
   "metadata": {},
   "outputs": [],
   "source": [
    "lin_reg_cols = ['Toilets','WoodDeckSF','TotRmsAbvGrd','BedroomAbvGr','Showers',\n",
    "                'FirePlaces','YearBuilt','YearRemodAdd',\n",
    "                'TotalBsmtSF','DecadeBuilt'\n",
    "               ]\n",
    "\n",
    "cols_to_dummy = ['Foundation','RoofStyle','SaleCondition',\n",
    "                 'Neighborhood','Electrical','HouseStyle','SaleType','MSSubClass',\n",
    "                 'LandContour','PavedDrive','GarageFinish','MSZoning'\n",
    "                ]\n",
    "\n",
    "dummy_suffix = ['Qual','Cond','Type']\n",
    "for col in housing.columns:\n",
    "    if col not in cols_to_dummy and col not in lin_reg_cols:\n",
    "        for suff in dummy_suffix:\n",
    "            #print(re.search(r'%s$'%dummy_suffix, col))\n",
    "            if re.search(r'%s$'%suff, col) is not None:\n",
    "                cols_to_dummy.append(col)\n",
    "                break"
   ]
  },
  {
   "cell_type": "code",
   "execution_count": 28,
   "metadata": {},
   "outputs": [],
   "source": [
    "from sklearn.linear_model import Ridge, Lasso, ElasticNet, LinearRegression\n",
    "\n",
    "def perform_lasso_ridge_test(set_df,test_type):\n",
    "    if test_type == 'ridge':\n",
    "        test = Ridge()\n",
    "    elif test_type == 'lasso':\n",
    "        test = Lasso()\n",
    "    \n",
    "    prices = set_df['SalePrice']\n",
    "    del set_df['SalePrice']\n",
    "        \n",
    "    coefs = []\n",
    "    intercepts = []\n",
    "    R2  = []\n",
    "    alphaRange = [.0005,.0001,.01,1,5]\n",
    "    for alpha in alphaRange:\n",
    "        test.set_params(alpha=alpha)  \n",
    "        test.fit(set_df,prices)\n",
    "        intercepts.append(test.intercept_)\n",
    "        coefs.append(test.coef_)\n",
    "        R2.append(test.score(set_df,prices))\n",
    "    return statistics.mean(R2)"
   ]
  },
  {
   "cell_type": "code",
   "execution_count": null,
   "metadata": {},
   "outputs": [],
   "source": []
  },
  {
   "cell_type": "code",
   "execution_count": 29,
   "metadata": {},
   "outputs": [],
   "source": [
    "def get_mll_vals(set_df):\n",
    "    lm = LinearRegression()\n",
    "    prices = set_df['SalePrice']\n",
    "    del set_df['SalePrice']\n",
    "    \n",
    "    lm.fit(set_df,prices)\n",
    "\n",
    "    r2 = lm.score(set_df, prices)\n",
    "    return r2"
   ]
  },
  {
   "cell_type": "code",
   "execution_count": 93,
   "metadata": {},
   "outputs": [],
   "source": [
    "# def get_split_reg_split(data_frame,split_variable,reg_variables,split_type='mean',test_type='lasso'):\n",
    "#     if split_type == 'mean':\n",
    "#         test_val = data_frame[split_variable].mean()\n",
    "#     elif split_type == 'median':\n",
    "#         test_val = data_frame[split_variable].median()\n",
    "#     else:\n",
    "#         test_val = split_type\n",
    "    \n",
    "#     data_frame = data_frame[reg_variables+['SalePrice']]\n",
    "    \n",
    "#     dummy_cols = []\n",
    "#     lin_cols = []\n",
    "#     for col in data_frame.columns:\n",
    "#         if col in cols_to_dummy:\n",
    "#             dummy_cols.append(col)\n",
    "#         else:\n",
    "#             lin_cols.append(col)\n",
    "\n",
    "#     data_frame = data_frame.fillna(0.0)\n",
    "    \n",
    "#     if len(dummy_cols)>0:\n",
    "#         data_frame = pd.get_dummies(data_frame,columns=dummy_cols,drop_first=True)\n",
    "    \n",
    "#     high_df = data_frame[data_frame[split_variable]>test_val]\n",
    "#     low_df = data_frame[data_frame[split_variable]<=test_val]\n",
    "    \n",
    "#     df_dict = {'high':high_df,'low':low_df}\n",
    "#     #df_dict = {'low':low_df}\n",
    "    \n",
    "\n",
    "#     output = {}\n",
    "#     for key,data in df_dict.items():\n",
    "#         if test_type == 'lasso' or test_type == 'ridge':\n",
    "#             val = perform_lasso_ridge_test(data,test_type)\n",
    "#         elif test_type in ['mll','multiple_lin','multiple_linear','multiple']:\n",
    "#             val = get_mll_vals(data)\n",
    "#         output[key] = val\n",
    "#     return output"
   ]
  },
  {
   "cell_type": "code",
   "execution_count": null,
   "metadata": {},
   "outputs": [],
   "source": []
  },
  {
   "cell_type": "code",
   "execution_count": 117,
   "metadata": {},
   "outputs": [],
   "source": [
    "def get_split_reg_split(df_dict_func,test_type='lasso'):\n",
    "    output = {}\n",
    "    for key,data_start in df_dict.items():\n",
    "        data = data_start.copy()\n",
    "        if test_type == 'lasso' or test_type == 'ridge':\n",
    "            val = perform_lasso_ridge_test(data,test_type)\n",
    "        elif test_type in ['mll','multiple_lin','multiple_linear','multiple']:\n",
    "            val = get_mll_vals(data)\n",
    "        output[key] = val\n",
    "    return output"
   ]
  },
  {
   "cell_type": "code",
   "execution_count": null,
   "metadata": {},
   "outputs": [],
   "source": []
  },
  {
   "cell_type": "code",
   "execution_count": 118,
   "metadata": {},
   "outputs": [],
   "source": [
    "split_variable = 'SalePrice'\n",
    "reg_variables = ['Neighborhood','OverallQual','BedroomAbvGr','TotalBsmtSF','DecadeBuilt','TotRmsAbvGrd','KitchenQual']\n",
    "test_var = 'SalePrice'\n",
    "split_type = 'mean'"
   ]
  },
  {
   "cell_type": "code",
   "execution_count": 124,
   "metadata": {},
   "outputs": [],
   "source": [
    "if split_type == 'mean':\n",
    "    test_val = housing[split_variable].mean()\n",
    "elif split_type == 'median':\n",
    "    test_val = housing[split_variable].median()\n",
    "else:\n",
    "    test_val = split_type\n",
    "\n",
    "sub_df = housing.copy()\n",
    "sub_df = sub_df[reg_variables+['SalePrice']]\n",
    "\n",
    "dummy_cols = []\n",
    "lin_cols = []\n",
    "for col in sub_df.columns:\n",
    "    if col in cols_to_dummy:\n",
    "        dummy_cols.append(col)\n",
    "    else:\n",
    "        lin_cols.append(col)\n",
    "\n",
    "sub_df = sub_df.fillna(0.0)\n",
    "\n",
    "if len(dummy_cols)>0:\n",
    "    sub_df = pd.get_dummies(sub_df,columns=dummy_cols,drop_first=True)\n",
    "\n",
    "high_df = sub_df[sub_df[split_variable]>test_val]\n",
    "low_df = sub_df[sub_df[split_variable]<=test_val]\n",
    "\n",
    "df_dict = {'high':high_df,'low':low_df}"
   ]
  },
  {
   "cell_type": "code",
   "execution_count": 125,
   "metadata": {},
   "outputs": [],
   "source": [
    "test_type = 'ridge'\n",
    "reg_output = get_split_reg_split(df_dict,test_type=test_type)"
   ]
  },
  {
   "cell_type": "code",
   "execution_count": 126,
   "metadata": {},
   "outputs": [
    {
     "data": {
      "text/plain": [
       "{'zzz': 0.7285826708363523, 'low': 0.6562133786218576}"
      ]
     },
     "execution_count": 126,
     "metadata": {},
     "output_type": "execute_result"
    }
   ],
   "source": [
    "reg_output"
   ]
  },
  {
   "cell_type": "code",
   "execution_count": 122,
   "metadata": {},
   "outputs": [],
   "source": [
    "reg_output = get_split_reg_split(housing,test_type='multiple')"
   ]
  },
  {
   "cell_type": "code",
   "execution_count": 123,
   "metadata": {},
   "outputs": [
    {
     "data": {
      "text/plain": [
       "{'high': 0.7302952956044477, 'low': 0.6584285597421635}"
      ]
     },
     "execution_count": 123,
     "metadata": {},
     "output_type": "execute_result"
    }
   ],
   "source": [
    "reg_output"
   ]
  },
  {
   "cell_type": "code",
   "execution_count": null,
   "metadata": {},
   "outputs": [],
   "source": []
  },
  {
   "cell_type": "code",
   "execution_count": null,
   "metadata": {},
   "outputs": [],
   "source": []
  },
  {
   "cell_type": "code",
   "execution_count": null,
   "metadata": {},
   "outputs": [],
   "source": []
  }
 ],
 "metadata": {
  "kernelspec": {
   "display_name": "Python 3",
   "language": "python",
   "name": "python3"
  },
  "language_info": {
   "codemirror_mode": {
    "name": "ipython",
    "version": 3
   },
   "file_extension": ".py",
   "mimetype": "text/x-python",
   "name": "python",
   "nbconvert_exporter": "python",
   "pygments_lexer": "ipython3",
   "version": "3.8.5"
  }
 },
 "nbformat": 4,
 "nbformat_minor": 4
}
