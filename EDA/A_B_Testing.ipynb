{
 "cells": [
  {
   "cell_type": "code",
   "execution_count": 1,
   "metadata": {},
   "outputs": [],
   "source": [
    "import sys\n",
    "sys.path.append('../ames') # path the the directory\n",
    "\n",
    "import numpy as np\n",
    "import pandas as pd\n",
    "import statsmodels.api as sm\n",
    "from statsmodels.api import OLS\n",
    "import matplotlib.pyplot as plt\n",
    "from sklearn.linear_model import LinearRegression\n",
    "import re\n",
    "import itertools\n",
    "import statistics\n",
    "%matplotlib inline "
   ]
  },
  {
   "cell_type": "code",
   "execution_count": 2,
   "metadata": {},
   "outputs": [],
   "source": [
    "from sklearn.feature_selection import f_regression\n",
    "from sklearn.linear_model import LinearRegression"
   ]
  },
  {
   "cell_type": "code",
   "execution_count": 3,
   "metadata": {},
   "outputs": [],
   "source": [
    "import config\n",
    "from data_prep import clean, add_features"
   ]
  },
  {
   "cell_type": "code",
   "execution_count": 4,
   "metadata": {},
   "outputs": [],
   "source": [
    "housing_initial = clean(config.HOUSING_CSV)\n",
    "housing = housing_initial.copy()\n",
    "housing = add_features(housing)"
   ]
  },
  {
   "cell_type": "code",
   "execution_count": 5,
   "metadata": {},
   "outputs": [],
   "source": [
    "lin_reg_cols = ['Toilets','WoodDeckSF','TotRmsAbvGrd','BedroomAbvGr','Showers',\n",
    "                'FirePlaces','YearBuilt','YearRemodAdd',\n",
    "                'TotalBsmtSF','DecadeBuilt'\n",
    "               ]\n",
    "\n",
    "cols_to_dummy = ['Foundation','RoofStyle','SaleCondition',\n",
    "                 'Neighborhood','Electrical','HouseStyle','SaleType','MSSubClass',\n",
    "                 'LandContour','PavedDrive','GarageFinish','MSZoning'\n",
    "                ]\n",
    "\n",
    "dummy_suffix = ['Qual','Cond','Type']\n",
    "for col in housing.columns:\n",
    "    if col not in cols_to_dummy and col not in lin_reg_cols:\n",
    "        for suff in dummy_suffix:\n",
    "            #print(re.search(r'%s$'%dummy_suffix, col))\n",
    "            if re.search(r'%s$'%suff, col) is not None:\n",
    "                cols_to_dummy.append(col)\n",
    "                break"
   ]
  },
  {
   "cell_type": "code",
   "execution_count": 6,
   "metadata": {},
   "outputs": [],
   "source": [
    "from sklearn.linear_model import Ridge, Lasso, ElasticNet, LinearRegression\n",
    "\n",
    "def perform_lasso_ridge_test(set_df,test_type):\n",
    "    if test_type == 'ridge':\n",
    "        test = Ridge()\n",
    "    elif test_type == 'lasso':\n",
    "        test = Lasso()\n",
    "    \n",
    "    prices = set_df['SalePrice']\n",
    "    del set_df['SalePrice']\n",
    "        \n",
    "    coefs = []\n",
    "    intercepts = []\n",
    "    R2  = []\n",
    "    alphaRange = [.0005,.0001,.01]\n",
    "    for alpha in alphaRange:\n",
    "        test.set_params(alpha=alpha)  \n",
    "        test.fit(set_df,prices)\n",
    "        intercepts.append(test.intercept_)\n",
    "        coefs.append(test.coef_)\n",
    "        R2.append(test.score(set_df,prices))\n",
    "    return statistics.mean(R2)"
   ]
  },
  {
   "cell_type": "code",
   "execution_count": null,
   "metadata": {},
   "outputs": [],
   "source": []
  },
  {
   "cell_type": "code",
   "execution_count": 7,
   "metadata": {},
   "outputs": [],
   "source": [
    "def get_mll_vals(set_df):\n",
    "    lm = LinearRegression()\n",
    "    prices = set_df['SalePrice']\n",
    "    del set_df['SalePrice']\n",
    "    \n",
    "    lm.fit(set_df,prices)\n",
    "\n",
    "    r2 = lm.score(set_df, prices)\n",
    "    return r2"
   ]
  },
  {
   "cell_type": "code",
   "execution_count": 8,
   "metadata": {},
   "outputs": [],
   "source": [
    "def get_split_reg_split(df_dict_func,test_type='lasso'):\n",
    "    output = {}\n",
    "    for key,data_start in df_dict.items():\n",
    "        data = data_start.copy()\n",
    "        if test_type == 'lasso' or test_type == 'ridge':\n",
    "            val = perform_lasso_ridge_test(data,test_type)\n",
    "        elif test_type in ['mll','multiple_lin','multiple_linear','multiple']:\n",
    "            val = get_mll_vals(data)\n",
    "        output[key] = val\n",
    "    return output"
   ]
  },
  {
   "cell_type": "code",
   "execution_count": null,
   "metadata": {},
   "outputs": [],
   "source": []
  },
  {
   "cell_type": "markdown",
   "metadata": {},
   "source": [
    "Split Based On Being Above/Below A Speicfic Value"
   ]
  },
  {
   "cell_type": "code",
   "execution_count": 9,
   "metadata": {},
   "outputs": [],
   "source": [
    "split_variable = 'SalePrice'\n",
    "reg_variables = ['Neighborhood','OverallQual','BedroomAbvGr','TotalBsmtSF','DecadeBuilt','TotRmsAbvGrd','KitchenQual']\n",
    "test_var = 'SalePrice'\n",
    "split_type = 'mean'"
   ]
  },
  {
   "cell_type": "code",
   "execution_count": 10,
   "metadata": {},
   "outputs": [],
   "source": [
    "if split_type == 'mean':\n",
    "    test_val = housing[split_variable].mean()\n",
    "elif split_type == 'median':\n",
    "    test_val = housing[split_variable].median()\n",
    "else:\n",
    "    test_val = split_type\n",
    "\n",
    "sub_df = housing.copy()\n",
    "sub_df = sub_df.fillna(0.0)\n",
    "sub_df = sub_df[reg_variables+['SalePrice']]\n",
    "\n",
    "dummy_cols = []\n",
    "lin_cols = []\n",
    "for col in sub_df.columns:\n",
    "    if col in cols_to_dummy:\n",
    "        dummy_cols.append(col)\n",
    "    else:\n",
    "        lin_cols.append(col)\n",
    "\n",
    "if len(dummy_cols)>0:\n",
    "    sub_df = pd.get_dummies(sub_df,columns=dummy_cols,drop_first=True)\n",
    "\n",
    "high_df = sub_df[sub_df[split_variable]>test_val]\n",
    "low_df = sub_df[sub_df[split_variable]<=test_val]\n",
    "\n",
    "df_dict = {'high':high_df,'low':low_df}"
   ]
  },
  {
   "cell_type": "markdown",
   "metadata": {},
   "source": [
    "Split Breaking Out A Values Of 1 Dimension Separately"
   ]
  },
  {
   "cell_type": "code",
   "execution_count": 14,
   "metadata": {},
   "outputs": [],
   "source": [
    "reg_variables = ['TotalLivingArea','OverallCond']\n",
    "dimension = 'Neighborhood'\n",
    "\n",
    "df_dict = {}\n",
    "for val in housing[dimension].unique():\n",
    "    temp = housing.copy()\n",
    "    temp = temp[temp[dimension]==val]\n",
    "    \n",
    "    temp = temp[reg_variables+['SalePrice']]\n",
    "    \n",
    "    dummy_cols = []\n",
    "    lin_cols = []\n",
    "    for col in temp.columns:\n",
    "        if col in cols_to_dummy:\n",
    "            dummy_cols.append(col)\n",
    "        else:\n",
    "            lin_cols.append(col)\n",
    "\n",
    "    if len(dummy_cols)>0:\n",
    "        temp = pd.get_dummies(temp,columns=dummy_cols,drop_first=True)\n",
    "    \n",
    "    length = len(temp)\n",
    "    if length > 30:\n",
    "        df_dict[val] = temp"
   ]
  },
  {
   "cell_type": "code",
   "execution_count": 15,
   "metadata": {},
   "outputs": [
    {
     "data": {
      "text/plain": [
       "dict_keys(['SWISU', 'Edwards', 'IDOTRR', 'OldTown', 'NWAmes', 'Mitchel', 'NridgHt', 'NAmes', 'CollgCr', 'SawyerW', 'MeadowV', 'Gilbert', 'Timber', 'Somerst', 'BrkSide', 'NoRidge', 'Sawyer', 'Crawfor', 'ClearCr', 'StoneBr'])"
      ]
     },
     "execution_count": 15,
     "metadata": {},
     "output_type": "execute_result"
    }
   ],
   "source": [
    "df_dict.keys()"
   ]
  },
  {
   "cell_type": "code",
   "execution_count": 16,
   "metadata": {},
   "outputs": [
    {
     "name": "stderr",
     "output_type": "stream",
     "text": [
      "/opt/anaconda3/lib/python3.8/site-packages/sklearn/linear_model/_coordinate_descent.py:529: ConvergenceWarning: Objective did not converge. You might want to increase the number of iterations. Duality gap: 84744539.96954346, tolerance: 38470005.41468121\n",
      "  model = cd_fast.enet_coordinate_descent(\n",
      "/opt/anaconda3/lib/python3.8/site-packages/sklearn/linear_model/_coordinate_descent.py:529: ConvergenceWarning: Objective did not converge. You might want to increase the number of iterations. Duality gap: 4391372174.363617, tolerance: 38470005.41468121\n",
      "  model = cd_fast.enet_coordinate_descent(\n",
      "/opt/anaconda3/lib/python3.8/site-packages/sklearn/linear_model/_coordinate_descent.py:529: ConvergenceWarning: Objective did not converge. You might want to increase the number of iterations. Duality gap: 71948396827.51062, tolerance: 43281058.6413925\n",
      "  model = cd_fast.enet_coordinate_descent(\n",
      "/opt/anaconda3/lib/python3.8/site-packages/sklearn/linear_model/_coordinate_descent.py:529: ConvergenceWarning: Objective did not converge. You might want to increase the number of iterations. Duality gap: 75956247345.11665, tolerance: 43281058.6413925\n",
      "  model = cd_fast.enet_coordinate_descent(\n",
      "/opt/anaconda3/lib/python3.8/site-packages/sklearn/linear_model/_coordinate_descent.py:529: ConvergenceWarning: Objective did not converge. You might want to increase the number of iterations. Duality gap: 436986139.2163391, tolerance: 43281058.6413925\n",
      "  model = cd_fast.enet_coordinate_descent(\n"
     ]
    }
   ],
   "source": [
    "test_type = 'lasso'\n",
    "reg_output = get_split_reg_split(df_dict,test_type=test_type)"
   ]
  },
  {
   "cell_type": "code",
   "execution_count": 18,
   "metadata": {},
   "outputs": [
    {
     "data": {
      "text/plain": [
       "{'SWISU': 0.6671377410604785,\n",
       " 'Edwards': 0.46552941098232054,\n",
       " 'IDOTRR': 0.6887827551515066,\n",
       " 'OldTown': 0.6444518829700889,\n",
       " 'NWAmes': 0.6768281834492278,\n",
       " 'Mitchel': 0.5288598372980658,\n",
       " 'NridgHt': 0.7053054567165835,\n",
       " 'NAmes': 0.6172538204577194,\n",
       " 'CollgCr': 0.6298925045937475,\n",
       " 'SawyerW': 0.7684615550883821,\n",
       " 'MeadowV': 0.7746127562453501,\n",
       " 'Gilbert': 0.4207358298223686,\n",
       " 'Timber': 0.47265198836610706,\n",
       " 'Somerst': 0.5684699580477014,\n",
       " 'BrkSide': 0.6603960476823437,\n",
       " 'NoRidge': 0.7110002987362727,\n",
       " 'Sawyer': 0.48333621022914774,\n",
       " 'Crawfor': 0.7222331466041012,\n",
       " 'ClearCr': 0.5081698531354618,\n",
       " 'StoneBr': 0.6196613143460676}"
      ]
     },
     "execution_count": 18,
     "metadata": {},
     "output_type": "execute_result"
    }
   ],
   "source": [
    "reg_output"
   ]
  },
  {
   "cell_type": "code",
   "execution_count": 17,
   "metadata": {},
   "outputs": [],
   "source": [
    "# reg_output = get_split_reg_split(housing,test_type='multiple')"
   ]
  },
  {
   "cell_type": "code",
   "execution_count": null,
   "metadata": {},
   "outputs": [],
   "source": []
  },
  {
   "cell_type": "code",
   "execution_count": null,
   "metadata": {},
   "outputs": [],
   "source": []
  },
  {
   "cell_type": "code",
   "execution_count": null,
   "metadata": {},
   "outputs": [],
   "source": []
  },
  {
   "cell_type": "code",
   "execution_count": null,
   "metadata": {},
   "outputs": [],
   "source": []
  }
 ],
 "metadata": {
  "kernelspec": {
   "display_name": "Python 3",
   "language": "python",
   "name": "python3"
  },
  "language_info": {
   "codemirror_mode": {
    "name": "ipython",
    "version": 3
   },
   "file_extension": ".py",
   "mimetype": "text/x-python",
   "name": "python",
   "nbconvert_exporter": "python",
   "pygments_lexer": "ipython3",
   "version": "3.8.5"
  }
 },
 "nbformat": 4,
 "nbformat_minor": 4
}
