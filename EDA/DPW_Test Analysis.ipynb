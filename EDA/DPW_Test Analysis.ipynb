{
 "cells": [
  {
   "cell_type": "markdown",
   "metadata": {},
   "source": [
    "# Import libraries "
   ]
  },
  {
   "cell_type": "code",
   "execution_count": 9,
   "metadata": {},
   "outputs": [],
   "source": [
    "import pandas as pd\n",
    "import numpy as np\n",
    "from pathlib import Path"
   ]
  },
  {
   "cell_type": "markdown",
   "metadata": {},
   "source": [
    "https://www.realtor.com/advice/buy/average-price-per-square-foot-for-a-home/"
   ]
  },
  {
   "cell_type": "code",
   "execution_count": 10,
   "metadata": {},
   "outputs": [],
   "source": [
    "import sys\n",
    "sys.path.append('../ames') # path the the directory\n",
    "import config\n",
    "from data_prep import clean, add_features, dummify"
   ]
  },
  {
   "cell_type": "code",
   "execution_count": 11,
   "metadata": {},
   "outputs": [],
   "source": [
    "housing = clean(config.HOUSING_CSV)\n",
    "housing = add_features(housing)"
   ]
  },
  {
   "cell_type": "code",
   "execution_count": 12,
   "metadata": {},
   "outputs": [
    {
     "name": "stdout",
     "output_type": "stream",
     "text": [
      "<class 'pandas.core.frame.DataFrame'>\n",
      "Int64Index: 2579 entries, 0 to 2579\n",
      "Data columns (total 90 columns):\n",
      " #   Column           Non-Null Count  Dtype  \n",
      "---  ------           --------------  -----  \n",
      " 0   PID              2579 non-null   int64  \n",
      " 1   GrLivArea        2579 non-null   int64  \n",
      " 2   SalePrice        2579 non-null   int64  \n",
      " 3   MSSubClass       2579 non-null   int64  \n",
      " 4   MSZoning         2579 non-null   object \n",
      " 5   LotFrontage      2579 non-null   float64\n",
      " 6   LotArea          2579 non-null   int64  \n",
      " 7   Street           2579 non-null   object \n",
      " 8   Alley            168 non-null    object \n",
      " 9   LotShape         2579 non-null   object \n",
      " 10  LandContour      2579 non-null   object \n",
      " 11  Utilities        2579 non-null   object \n",
      " 12  LotConfig        2579 non-null   object \n",
      " 13  LandSlope        2579 non-null   object \n",
      " 14  Neighborhood     2579 non-null   object \n",
      " 15  Condition1       2579 non-null   object \n",
      " 16  Condition2       2579 non-null   object \n",
      " 17  BldgType         2579 non-null   object \n",
      " 18  HouseStyle       2579 non-null   object \n",
      " 19  OverallQual      2579 non-null   int64  \n",
      " 20  OverallCond      2579 non-null   int64  \n",
      " 21  YearBuilt        2579 non-null   int64  \n",
      " 22  YearRemodAdd     2579 non-null   int64  \n",
      " 23  RoofStyle        2579 non-null   object \n",
      " 24  RoofMatl         2579 non-null   object \n",
      " 25  Exterior1st      2579 non-null   object \n",
      " 26  Exterior2nd      2579 non-null   object \n",
      " 27  MasVnrType       2565 non-null   object \n",
      " 28  MasVnrArea       2579 non-null   float64\n",
      " 29  ExterQual        2579 non-null   object \n",
      " 30  ExterCond        2579 non-null   object \n",
      " 31  Foundation       2579 non-null   object \n",
      " 32  BsmtQual         2579 non-null   object \n",
      " 33  BsmtCond         2510 non-null   object \n",
      " 34  BsmtExposure     2508 non-null   object \n",
      " 35  BsmtFinType1     2510 non-null   object \n",
      " 36  BsmtFinSF1       2579 non-null   float64\n",
      " 37  BsmtFinType2     2509 non-null   object \n",
      " 38  BsmtFinSF2       2579 non-null   float64\n",
      " 39  BsmtUnfSF        2579 non-null   float64\n",
      " 40  TotalBsmtSF      2579 non-null   float64\n",
      " 41  Heating          2579 non-null   object \n",
      " 42  HeatingQC        2579 non-null   object \n",
      " 43  CentralAir       2579 non-null   object \n",
      " 44  Electrical       2578 non-null   object \n",
      " 45  1stFlrSF         2579 non-null   int64  \n",
      " 46  2ndFlrSF         2579 non-null   int64  \n",
      " 47  LowQualFinSF     2579 non-null   int64  \n",
      " 48  BsmtFullBath     2579 non-null   float64\n",
      " 49  BsmtHalfBath     2579 non-null   float64\n",
      " 50  FullBath         2579 non-null   int64  \n",
      " 51  HalfBath         2579 non-null   int64  \n",
      " 52  BedroomAbvGr     2579 non-null   int64  \n",
      " 53  KitchenAbvGr     2579 non-null   int64  \n",
      " 54  KitchenQual      2579 non-null   object \n",
      " 55  TotRmsAbvGrd     2579 non-null   int64  \n",
      " 56  Functional       2579 non-null   object \n",
      " 57  Fireplaces       2579 non-null   int64  \n",
      " 58  FireplaceQu      1338 non-null   object \n",
      " 59  GarageType       2452 non-null   object \n",
      " 60  GarageYrBlt      2579 non-null   float64\n",
      " 61  GarageFinish     2450 non-null   object \n",
      " 62  GarageCars       2579 non-null   float64\n",
      " 63  GarageArea       2579 non-null   float64\n",
      " 64  GarageQual       2450 non-null   object \n",
      " 65  GarageCond       2450 non-null   object \n",
      " 66  PavedDrive       2579 non-null   object \n",
      " 67  WoodDeckSF       2579 non-null   int64  \n",
      " 68  OpenPorchSF      2579 non-null   int64  \n",
      " 69  EnclosedPorch    2579 non-null   int64  \n",
      " 70  3SsnPorch        2579 non-null   int64  \n",
      " 71  ScreenPorch      2579 non-null   int64  \n",
      " 72  PoolArea         2579 non-null   int64  \n",
      " 73  PoolQC           9 non-null      object \n",
      " 74  Fence            525 non-null    object \n",
      " 75  MiscFeature      97 non-null     object \n",
      " 76  MiscVal          2579 non-null   int64  \n",
      " 77  MoSold           2579 non-null   int64  \n",
      " 78  YrSold           2579 non-null   int64  \n",
      " 79  SaleType         2579 non-null   object \n",
      " 80  SaleCondition    2579 non-null   object \n",
      " 81  TotalLivingArea  2579 non-null   float64\n",
      " 82  UnusedLotSize    2579 non-null   int64  \n",
      " 83  HasPool          2579 non-null   bool   \n",
      " 84  Toilets          2579 non-null   float64\n",
      " 85  Showers          2579 non-null   float64\n",
      " 86  DecadeBuilt      2579 non-null   int64  \n",
      " 87  DecadeRemodel    2579 non-null   int64  \n",
      " 88  HouseAge         2579 non-null   int64  \n",
      " 89  HouseAgeSq       2579 non-null   int64  \n",
      "dtypes: bool(1), float64(14), int64(32), object(43)\n",
      "memory usage: 1.8+ MB\n"
     ]
    }
   ],
   "source": [
    "housing.info()"
   ]
  },
  {
   "cell_type": "code",
   "execution_count": 4,
   "metadata": {},
   "outputs": [
    {
     "data": {
      "text/html": [
       "<div>\n",
       "<style scoped>\n",
       "    .dataframe tbody tr th:only-of-type {\n",
       "        vertical-align: middle;\n",
       "    }\n",
       "\n",
       "    .dataframe tbody tr th {\n",
       "        vertical-align: top;\n",
       "    }\n",
       "\n",
       "    .dataframe thead th {\n",
       "        text-align: right;\n",
       "    }\n",
       "</style>\n",
       "<table border=\"1\" class=\"dataframe\">\n",
       "  <thead>\n",
       "    <tr style=\"text-align: right;\">\n",
       "      <th></th>\n",
       "      <th>OverallCond</th>\n",
       "      <th>OverallQual</th>\n",
       "    </tr>\n",
       "  </thead>\n",
       "  <tbody>\n",
       "    <tr>\n",
       "      <th>OverallCond</th>\n",
       "      <td>1.000000</td>\n",
       "      <td>-0.095839</td>\n",
       "    </tr>\n",
       "    <tr>\n",
       "      <th>OverallQual</th>\n",
       "      <td>-0.095839</td>\n",
       "      <td>1.000000</td>\n",
       "    </tr>\n",
       "  </tbody>\n",
       "</table>\n",
       "</div>"
      ],
      "text/plain": [
       "             OverallCond  OverallQual\n",
       "OverallCond     1.000000    -0.095839\n",
       "OverallQual    -0.095839     1.000000"
      ]
     },
     "execution_count": 4,
     "metadata": {},
     "output_type": "execute_result"
    }
   ],
   "source": [
    "housing[['OverallCond','OverallQual']].corr()"
   ]
  },
  {
   "cell_type": "code",
   "execution_count": 5,
   "metadata": {},
   "outputs": [],
   "source": [
    "import seaborn as sns\n",
    "import matplotlib.pyplot as plt"
   ]
  },
  {
   "cell_type": "code",
   "execution_count": 8,
   "metadata": {},
   "outputs": [
    {
     "data": {
      "image/png": "[encoded data removed]",
      "text/plain": [
       "<Figure size 432x288 with 2 Axes>"
      ]
     },
     "metadata": {
      "needs_background": "light"
     },
     "output_type": "display_data"
    }
   ],
   "source": [
    "corrMatrix = housing[config.CONTINUOUS_VARIABLES].corr()\n",
    "sns.heatmap(corrMatrix, annot=False)\n",
    "plt.show()"
   ]
  },
  {
   "cell_type": "code",
   "execution_count": 7,
   "metadata": {},
   "outputs": [
    {
     "data": {
      "text/plain": [
       "MiscVal             0\n",
       "YrSold              0\n",
       "ScreenPorch         0\n",
       "MoSold              0\n",
       "LowQualFinSF        0\n",
       "BsmtHalfBath        0\n",
       "LotFrontage         0\n",
       "BsmtFinSF2          0\n",
       "3SsnPorch           0\n",
       "PoolArea            1\n",
       "HasPool             1\n",
       "MSSubClass          3\n",
       "KitchenAbvGr        3\n",
       "UnusedLotSize       3\n",
       "GarageYrBlt         4\n",
       "WoodDeckSF          4\n",
       "LotArea             4\n",
       "EnclosedPorch       5\n",
       "OverallCond         5\n",
       "OpenPorchSF         6\n",
       "BsmtUnfSF           7\n",
       "BsmtFullBath        7\n",
       "BedroomAbvGr        8\n",
       "2ndFlrSF            9\n",
       "Fireplaces         11\n",
       "HalfBath           11\n",
       "YearRemodAdd       14\n",
       "MasVnrArea         17\n",
       "TotRmsAbvGrd       17\n",
       "BsmtFinSF1         17\n",
       "GrLivArea          18\n",
       "DecadeBuilt        18\n",
       "DecadeRemodel      18\n",
       "HouseAgeSq         19\n",
       "YearBuilt          19\n",
       "HouseAge           19\n",
       "GarageArea         20\n",
       "GarageCars         20\n",
       "TotalBsmtSF        21\n",
       "FullBath           21\n",
       "Showers            22\n",
       "OverallQual        24\n",
       "1stFlrSF           24\n",
       "Toilets            25\n",
       "TotalLivingArea    27\n",
       "dtype: int64"
      ]
     },
     "execution_count": 7,
     "metadata": {},
     "output_type": "execute_result"
    }
   ],
   "source": [
    "np.logical_and(np.abs(housing[config.CONTINUOUS_VARIABLES].corr())>.25,housing[config.CONTINUOUS_VARIABLES].corr()<1).sum().sort_values()"
   ]
  },
  {
   "cell_type": "code",
   "execution_count": null,
   "metadata": {},
   "outputs": [],
   "source": [
    "housing[['TotalLivingArea','Toilets','Showers','OverallQual']]"
   ]
  },
  {
   "cell_type": "code",
   "execution_count": 13,
   "metadata": {},
   "outputs": [
    {
     "data": {
      "text/plain": [
       "NAmes      410\n",
       "CollgCr    236\n",
       "OldTown    213\n",
       "Edwards    165\n",
       "Somerst    143\n",
       "Gilbert    143\n",
       "Sawyer     139\n",
       "NWAmes     123\n",
       "NridgHt    121\n",
       "SawyerW    113\n",
       "Mitchel    104\n",
       "BrkSide    103\n",
       "Crawfor     92\n",
       "IDOTRR      76\n",
       "NoRidge     67\n",
       "Timber      54\n",
       "StoneBr     43\n",
       "SWISU       42\n",
       "ClearCr     40\n",
       "MeadowV     34\n",
       "BrDale      29\n",
       "Blmngtn     23\n",
       "Veenker     23\n",
       "NPkVill     22\n",
       "Blueste     10\n",
       "Greens       8\n",
       "GrnHill      2\n",
       "Landmrk      1\n",
       "Name: Neighborhood, dtype: int64"
      ]
     },
     "execution_count": 13,
     "metadata": {},
     "output_type": "execute_result"
    }
   ],
   "source": [
    "housing['Neighborhood'].value_counts()"
   ]
  },
  {
   "cell_type": "code",
   "execution_count": 14,
   "metadata": {},
   "outputs": [
    {
     "data": {
      "text/plain": [
       "2579"
      ]
     },
     "execution_count": 14,
     "metadata": {},
     "output_type": "execute_result"
    }
   ],
   "source": [
    "housing['Neighborhood'].count()"
   ]
  },
  {
   "cell_type": "code",
   "execution_count": null,
   "metadata": {},
   "outputs": [],
   "source": []
  }
 ],
 "metadata": {
  "kernelspec": {
   "display_name": "Python 3",
   "language": "python",
   "name": "python3"
  },
  "language_info": {
   "codemirror_mode": {
    "name": "ipython",
    "version": 3
   },
   "file_extension": ".py",
   "mimetype": "text/x-python",
   "name": "python",
   "nbconvert_exporter": "python",
   "pygments_lexer": "ipython3",
   "version": "3.7.9"
  }
 },
 "nbformat": 4,
 "nbformat_minor": 4
}
